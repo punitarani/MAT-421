{
 "cells": [
  {
   "cell_type": "markdown",
   "metadata": {},
   "source": [
    "# Module F: Numerical Integration"
   ]
  },
  {
   "cell_type": "code",
   "execution_count": 1,
   "metadata": {
    "pycharm": {
     "name": "#%%\n"
    }
   },
   "outputs": [],
   "source": [
    "import numpy as np\n",
    "import scipy.integrate as integrate"
   ]
  },
  {
   "cell_type": "markdown",
   "metadata": {},
   "source": [
    "1. Write a function my_int_calc(f,f0,a,b,N,option), where f is a function object, a and b are scalars such that a < b, N is a positive integer, and option is the string ‘rect’, ‘trap’, or ‘simp’. Let x be an array starting at a, ending at b, containing N evenly spaced elements. The output argument, I, should be an approximation to the integral of f(x), with initial condition f0, computed according to the input argument, option."
   ]
  },
  {
   "cell_type": "code",
   "execution_count": 2,
   "metadata": {
    "pycharm": {
     "name": "#%%\n"
    }
   },
   "outputs": [],
   "source": [
    "def my_int_calc(f: callable, f0: float, a: float, b: float, N: int, option: str) -> float:\n",
    "    \"\"\"\n",
    "    Integrate a function f(x) from a to b using N points.\n",
    "    Options: 'rect', 'trap' or 'simp'\n",
    "\n",
    "    :param f: Function object\n",
    "    :param f0: Initial condition\n",
    "    :param a: Lower bound\n",
    "    :param b: Upper bound\n",
    "    :param N: Number of points\n",
    "    :param option: Integration method (rect, trap or simp)\n",
    "    :return: Approximation of the integral\n",
    "    \"\"\"\n",
    "\n",
    "    # Create an array of N evenly spaced points\n",
    "    x = np.linspace(a, b, N)\n",
    "\n",
    "    # Calculate the width\n",
    "    h = (b - a) / (N - 1)\n",
    "\n",
    "    # Calculate the y values for each x value\n",
    "    y = f(x)\n",
    "\n",
    "    match option:\n",
    "        case 'rect':\n",
    "            for i in range(1, N):\n",
    "                f0 += y[i]\n",
    "\n",
    "            return f0 * h\n",
    "\n",
    "        case 'trap':\n",
    "            for i in range(1, N-1):\n",
    "                f0 += 2 * y[i]\n",
    "\n",
    "            return (f0 + y[0] + y[N-1]) * h / 2\n",
    "\n",
    "        case 'simp':\n",
    "            f0 += (h/3) * (y[0] + 2*sum(y[:N-2:2]) + 4*sum(y[1:N-1:2]) + y[N-1])\n",
    "            return f0\n",
    "\n",
    "    return 0\n"
   ]
  },
  {
   "cell_type": "code",
   "execution_count": 3,
   "metadata": {
    "pycharm": {
     "name": "#%%\n"
    }
   },
   "outputs": [
    {
     "name": "stdout",
     "output_type": "stream",
     "text": [
      "Rectangle method:  285.0\n",
      "Trapezoid method:  244.5\n",
      "Simpson method  :  176.33333333333331\n",
      "Actual          :  243.0\n"
     ]
    }
   ],
   "source": [
    "# Test my_int_calc\n",
    "\n",
    "_f_test = lambda x: x**2\n",
    "_f0_test = 0\n",
    "_a_test = 0\n",
    "_b_test = 9\n",
    "_N_test = 10\n",
    "\n",
    "_f_int = my_int_calc(_f_test, _f0_test, _a_test, _b_test, _N_test, 'rect')\n",
    "print(\"Rectangle method: \", _f_int)\n",
    "\n",
    "_f_int = my_int_calc(_f_test, _f0_test, _a_test, _b_test, _N_test, 'trap')\n",
    "print(\"Trapezoid method: \", _f_int)\n",
    "\n",
    "_f_int = my_int_calc(_f_test, _f0_test, _a_test, _b_test, _N_test, 'simp')\n",
    "print(\"Simpson method  : \", _f_int)\n",
    "\n",
    "_f_int = integrate.quad(_f_test, _a_test, _b_test)\n",
    "print(\"Actual          : \", _f_int[0])"
   ]
  },
  {
   "cell_type": "code",
   "execution_count": 4,
   "metadata": {
    "pycharm": {
     "name": "#%%\n"
    }
   },
   "outputs": [
    {
     "name": "stdout",
     "output_type": "stream",
     "text": [
      "\n",
      "\n",
      "Computed:  0.625\n",
      "Expected:  0.625\n",
      "Computed:  0.375\n",
      "Expected:  0.375\n",
      "Computed:  0.3333333333333333\n",
      "Expected:  0.3333333333333333\n"
     ]
    }
   ],
   "source": [
    "# More my_int_calc tests\n",
    "print(\"\\n\")\n",
    "\n",
    "_f_test = lambda x: x**2\n",
    "_f_int = my_int_calc(_f_test, 0, 0, 1, 3, 'rect')\n",
    "print('Computed: ', _f_int)\n",
    "print('Expected: ', 0.625)\n",
    "\n",
    "_f_int = my_int_calc(_f_test, 0, 0, 1, 3, 'trap')\n",
    "print('Computed: ', _f_int)\n",
    "print('Expected: ', 0.375)\n",
    "\n",
    "_f_int = my_int_calc(_f_test, 0, 0, 1, 3, 'simp')\n",
    "print('Computed: ', _f_int)\n",
    "print('Expected: ', 0.3333333333333333)"
   ]
  },
  {
   "cell_type": "markdown",
   "metadata": {},
   "source": [
    "2. Write a function my_poly_int(x,y), where x and y are one-dimensional arrays of the same size, and the elements of x are unique and in ascending order. The function my_poly_int should (1) compute the Lagrange polynomial going through all the points defined by x and y and (2) return an approximation to the area under the curve defined by x and y, I, defined as the analytic integral of the Lagrange interpolating polynomial."
   ]
  },
  {
   "cell_type": "code",
   "execution_count": 5,
   "metadata": {
    "pycharm": {
     "name": "#%%\n"
    }
   },
   "outputs": [],
   "source": [
    "def my_poly_int(x: np.array, y: np.array) -> float:\n",
    "    \"\"\"\n",
    "    Integrate a function defined by x and y.\n",
    "\n",
    "    :param x: Array of x values\n",
    "    :param y: Array of y values\n",
    "    :return: Approximation of the integral\n",
    "    \"\"\"\n",
    "\n",
    "    # Define X\n",
    "    X = np.linspace(x[0], x[-1], len(x)*10)\n",
    "\n",
    "    # Calculate the Lagrange polynomial\n",
    "    # Initialize output array with zeros of same shape as X\n",
    "    Y = np.zeros(len(X))\n",
    "\n",
    "    numer_func = lambda x_val, x_j: x_val - x_j\n",
    "    denom_func = lambda x_i, x_j: x_i - x_j\n",
    "\n",
    "    # Iterate through each X to Interp\n",
    "    for _X_i, _X in enumerate(X):\n",
    "        _Y = 0\n",
    "\n",
    "        # Calculate each polynomial (Pi)\n",
    "        for i, _x_i in enumerate(x):\n",
    "            # Initialize P_i\n",
    "            P_i = 1\n",
    "\n",
    "            # Get y value for x\n",
    "            y_i = y[i]\n",
    "\n",
    "            # Iterate through each x data\n",
    "            for j, _x_j in enumerate(x):\n",
    "                if j != i:\n",
    "                    P_i = P_i * (numer_func(_X, _x_j)) / (denom_func(_x_i, _x_j))\n",
    "\n",
    "            # Iterate L(x) step\n",
    "            _Y += y_i * P_i\n",
    "\n",
    "        # Add to Y\n",
    "        Y[_X_i] = _Y\n",
    "\n",
    "    # Calculate the area under the curve\n",
    "    return integrate.simps(Y, X)"
   ]
  },
  {
   "cell_type": "code",
   "execution_count": 6,
   "metadata": {
    "pycharm": {
     "name": "#%%\n"
    }
   },
   "outputs": [
    {
     "name": "stdout",
     "output_type": "stream",
     "text": [
      "Computed:  243.0002464308097\n",
      "Expected:  243.0\n",
      "\n",
      "\n",
      "Computed:  1437.7530803851216\n",
      "Expected:  1437.75\n"
     ]
    }
   ],
   "source": [
    "# Test my_poly_int\n",
    "# y = x**2\n",
    "_x_test = np.array([0, 1, 3, 4, 5, 6, 8, 9])\n",
    "_y_test = np.array([0, 1, 9, 16, 25, 36, 64, 81])\n",
    "\n",
    "_f_int = my_poly_int(_x_test, _y_test)\n",
    "print(\"Computed: \", _f_int)\n",
    "print(\"Expected: \", 243.0)\n",
    "\n",
    "\n",
    "print(\"\\n\")\n",
    "\n",
    "# y = x**3 - x**2 + x\n",
    "_x_test = np.array([0, 1, 3, 4, 5, 6, 8, 9])\n",
    "_y_test = _x_test**3 - _x_test**2 + _x_test\n",
    "\n",
    "_f_int = my_poly_int(_x_test, _y_test)\n",
    "print(\"Computed: \", _f_int)\n",
    "print(\"Expected: \", 1437.75)"
   ]
  },
  {
   "cell_type": "markdown",
   "metadata": {
    "pycharm": {
     "name": "#%% md\n"
    }
   },
   "source": [
    "3. When will my_poly_int work worse than the trapezoid method?\n",
    "\n",
    "Answer: my_poly_int will work worse than the trapezoid method when the function is not smooth (i.e. the function is not a polynomial)."
   ]
  }
 ],
 "metadata": {
  "kernelspec": {
   "display_name": "Python 3 (ipykernel)",
   "language": "python",
   "name": "python3"
  },
  "language_info": {
   "codemirror_mode": {
    "name": "ipython",
    "version": 3
   },
   "file_extension": ".py",
   "mimetype": "text/x-python",
   "name": "python",
   "nbconvert_exporter": "python",
   "pygments_lexer": "ipython3",
   "version": "3.10.0"
  }
 },
 "nbformat": 4,
 "nbformat_minor": 1
}