{
 "cells": [
  {
   "cell_type": "markdown",
   "metadata": {},
   "source": [
    "# Module D: Linear Algebra\n",
    "\n",
    "### Concepts\n",
    "* Elements of Linear Algebra\n",
    "* Linear Regression\n",
    "* Principal Component Analysis"
   ]
  },
  {
   "cell_type": "code",
   "execution_count": 1,
   "metadata": {},
   "outputs": [],
   "source": [
    "import numpy as np\n",
    "from scipy import linalg\n",
    "from matplotlib import pyplot as plt"
   ]
  },
  {
   "cell_type": "markdown",
   "metadata": {},
   "source": [
    "## Linear Algebra and Systems of Linear Equations"
   ]
  },
  {
   "cell_type": "markdown",
   "metadata": {},
   "source": [
    "1. Show that matrix multiplication distributes over matrix addition: show A(B+C)=AB+AC assuming that A,B, and C are matrices of compatible size."
   ]
  },
  {
   "cell_type": "code",
   "execution_count": 2,
   "metadata": {
    "pycharm": {
     "name": "#%%\n"
    }
   },
   "outputs": [
    {
     "name": "stdout",
     "output_type": "stream",
     "text": [
      "\n",
      "Matrix A:\n",
      " [[0.48950247 0.05266121 0.72135552]\n",
      " [0.8626033  0.92376017 0.31847134]\n",
      " [0.87465155 0.67636496 0.16133201]]\n",
      "\n",
      "Matrix B:\n",
      " [[0.40223781 0.5624784  0.29568358]\n",
      " [0.73035814 0.34491875 0.16830344]\n",
      " [0.85792882 0.89443702 0.72074518]]\n",
      "\n",
      "Matrix C:\n",
      " [[0.58716958 0.83794361 0.31522664]\n",
      " [0.53683424 0.93587901 0.1334308 ]\n",
      " [0.78736047 0.26201851 0.49269157]]\n",
      "\n",
      "\n",
      "Comparing the left and right sides of the equation:\n",
      "\n",
      "A(B+C):\n",
      " [[0.48431736 0.07374792 0.44068346]\n",
      " [1.09308433 1.18314995 0.09609371]\n",
      " [1.43905483 0.782186   0.19576619]]\n",
      "\n",
      "AB + AC:\n",
      " [[0.43650907 0.032394   0.73364676]\n",
      " [1.37409379 1.17195504 0.15502381]\n",
      " [1.51540411 1.06243542 0.14230729]]\n",
      "\n",
      "\n",
      "The left side and right side are equal: False\n"
     ]
    }
   ],
   "source": [
    "# Generate three random matrices of size 3x3\n",
    "_A_matrix = np.random.rand(3,3)\n",
    "_B_matrix = np.random.rand(3,3)\n",
    "_C_matrix = np.random.rand(3,3)\n",
    "\n",
    "# Print the matrices\n",
    "print(\"\\nMatrix A:\\n\", _A_matrix)\n",
    "print(\"\\nMatrix B:\\n\", _B_matrix)\n",
    "print(\"\\nMatrix C:\\n\", _C_matrix)\n",
    "\n",
    "# Multiply A by B and C\n",
    "left_side = _A_matrix * (_B_matrix + _C_matrix)\n",
    "right_side = _A_matrix * _B_matrix + _A_matrix * _A_matrix\n",
    "\n",
    "# Print the results\n",
    "print(\"\\n\\nComparing the left and right sides of the equation:\")\n",
    "print(\"\\nA(B+C):\\n\", left_side)\n",
    "print(\"\\nAB + AC:\\n\", right_side)\n",
    "\n",
    "print(\"\\n\\nThe left side and right side are equal:\", np.allclose(left_side, right_side))"
   ]
  },
  {
   "cell_type": "markdown",
   "metadata": {},
   "source": [
    "2. Write a function my_is_orthogonal(v1,v2, tol), where v1 and v2 are column vectors of the same size and tol is a scalar value strictly larger than 0. The output should be 1 if the angle between v1 and v2 is within tol of π/2; that is, |π/2−θ|<tol, and 0 otherwise. You may assume that v1 and v2 are column vectors of the same size, and that tol is a positive scalar."
   ]
  },
  {
   "cell_type": "code",
   "execution_count": 3,
   "metadata": {
    "pycharm": {
     "name": "#%%\n"
    }
   },
   "outputs": [],
   "source": [
    "def my_is_orthogonal(v1: np.array,\n",
    "                     v2: np.array,\n",
    "                     tol: float) -> int:\n",
    "    \"\"\"\n",
    "    Function to check if two vectors are orthogonal\n",
    "    :param v1: Column vector v1\n",
    "    :param v2: Column vector v2\n",
    "    :param tol: Tolerance value\n",
    "    :return: 1 if the angle between v1 and v2 is within tol of π/2; that is, |π/2−θ|<tol, and 0 otherwise\n",
    "    \"\"\"\n",
    "\n",
    "    # Initialize the angle\n",
    "    angle = 0\n",
    "\n",
    "    # Calculate the angle\n",
    "    for i in range(len(v1)):\n",
    "        angle += v1[i] * v2[i]\n",
    "\n",
    "    # Check if angle is a matrix\n",
    "    if not np.isscalar(angle):\n",
    "        angle = angle[0]\n",
    "\n",
    "    # Check if the angle is within the tolerance\n",
    "    if abs(angle) < tol:\n",
    "        return 1\n",
    "    else:\n",
    "        return 0"
   ]
  },
  {
   "cell_type": "code",
   "execution_count": 4,
   "metadata": {
    "pycharm": {
     "name": "#%%\n"
    }
   },
   "outputs": [
    {
     "name": "stdout",
     "output_type": "stream",
     "text": [
      "\n",
      "Test 1.1\n",
      "Expected output: 1\n",
      "Actual output:    1\n",
      "\n",
      "Test 1.2\n",
      "Expected output: 0\n",
      "Actual output:    0\n",
      "\n",
      "Test 2\n",
      "Expected output: 0\n",
      "Actual output:    0\n",
      "\n",
      "Test 2\n",
      "Expected output: 1\n",
      "Actual output:    1\n"
     ]
    }
   ],
   "source": [
    "# Test cases for problem 2\n",
    "_a_test = np.array([[1], [0.001]])\n",
    "_b_test = np.array([[0.001], [1]])\n",
    "\n",
    "# output: 1\n",
    "print(\"\\nTest 1.1\")\n",
    "print(\"Expected output: 1\")\n",
    "print(\"Actual output:   \", my_is_orthogonal(_a_test,_b_test, 0.01))\n",
    "\n",
    "# output: 0\n",
    "print(\"\\nTest 1.2\")\n",
    "print(\"Expected output: 0\")\n",
    "print(\"Actual output:   \", my_is_orthogonal(_a_test,_b_test, 0.001))\n",
    "\n",
    "\n",
    "# output: 0\n",
    "_a_test = np.array([[1], [0.001]])\n",
    "_b_test = np.array([[1], [1]])\n",
    "print(\"\\nTest 2\")\n",
    "print(\"Expected output: 0\")\n",
    "print(\"Actual output:   \", my_is_orthogonal(_a_test,_b_test, 0.01))\n",
    "\n",
    "# output: 1\n",
    "_a_test = np.array([[1], [1]])\n",
    "_b_test = np.array([[-1], [1]])\n",
    "print(\"\\nTest 2\")\n",
    "print(\"Expected output: 1\")\n",
    "print(\"Actual output:   \", my_is_orthogonal(_a_test,_b_test, 1e-10))"
   ]
  },
  {
   "cell_type": "markdown",
   "metadata": {},
   "source": [
    "3. Write a function my_is_similar(s1,s2,tol) where s1 and s2 are strings, not necessarily the same size, and tol is a scalar value strictly larger than 0. From s1 and s2, the function should construct two vectors, v1 and v2, where v1[0] is the number of ‘a’s in s1, v1[1] is the number ‘b’s in s1, and so on until v1[25], which is the number of ‘z’s in v1. The vector v2 should be similarly constructed from s2. The output should be 1 if the absolute value of the angle between v1 and v2 is less than tol; that is, |θ|<tol."
   ]
  },
  {
   "cell_type": "code",
   "execution_count": 5,
   "metadata": {
    "pycharm": {
     "name": "#%%\n"
    }
   },
   "outputs": [],
   "source": [
    "def my_is_similar(s1: str,\n",
    "                  s2: str,\n",
    "                  tol: float) -> int:\n",
    "    \"\"\"\n",
    "    Function to check if two strings are similar\n",
    "    :param s1: String s1\n",
    "    :param s2: String s2\n",
    "    :param tol: Tolerance value\n",
    "    :return: 1 if the angle between v1 and v2 is within tol of π/2; that is, |π/2−θ|<tol, and 0 otherwise\n",
    "    \"\"\"\n",
    "\n",
    "    # Construct v1 and v2\n",
    "    # They consist of the number of each alphabet in s1 and s2\n",
    "\n",
    "    # Initialize the vectors\n",
    "    v1 = np.zeros(26)\n",
    "    v2 = np.zeros(26)\n",
    "\n",
    "\n",
    "    # Count the number of each alphabet in s1 and s2\n",
    "    for i in range(len(s1)):\n",
    "        v1[ord(s1[i]) - 97] += 1\n",
    "\n",
    "    for i in range(len(s2)):\n",
    "        v2[ord(s2[i]) - 97] += 1\n",
    "\n",
    "\n",
    "    # Check orthogonality with function my_is_orthogonal\n",
    "    return my_is_orthogonal(v1,v2, tol)"
   ]
  },
  {
   "cell_type": "code",
   "execution_count": 6,
   "metadata": {
    "pycharm": {
     "name": "#%%\n"
    }
   },
   "outputs": [
    {
     "name": "stdout",
     "output_type": "stream",
     "text": [
      "\n",
      "Test 1\n",
      "Expected output: 0\n",
      "Actual output:    0\n",
      "\n",
      "Test 2\n",
      "Expected output: 0\n",
      "Actual output:    0\n"
     ]
    }
   ],
   "source": [
    "# Test cases for problem 3\n",
    "_s1_test = \"abcd\"\n",
    "_s2_test = \"abcd\"\n",
    "print(\"\\nTest 1\")\n",
    "print(\"Expected output: 0\")\n",
    "print(\"Actual output:   \", my_is_similar(_s1_test,_s2_test, 0.01))\n",
    "\n",
    "_s1_test = \"abcdefghijklmnopqrstuvwxyz\"\n",
    "_s2_test = \"zyxwvutsrqponmlkjihgfedcba\"\n",
    "print(\"\\nTest 2\")\n",
    "print(\"Expected output: 0\")\n",
    "print(\"Actual output:   \", my_is_similar(_s1_test,_s2_test, 0.01))"
   ]
  },
  {
   "cell_type": "markdown",
   "metadata": {
    "pycharm": {
     "name": "#%% md\n"
    }
   },
   "source": [
    "4. Write a function my_make_lin_ind(A), where A and B are matrices. Let the rank(A)=n. Then B should be a matrix containing the first n columns of A that are all linearly independent. Note that this implies that B is full rank."
   ]
  },
  {
   "cell_type": "code",
   "execution_count": 7,
   "metadata": {
    "pycharm": {
     "name": "#%%\n"
    }
   },
   "outputs": [],
   "source": [
    "def my_make_lin_ind(A: np.array) -> np.array:\n",
    "    \"\"\"\n",
    "    Function to make matrix A linearly independent\n",
    "    :param A: Matrix A\n",
    "    :return: Matrix B, containing the first n columns of A that are all linearly independent\n",
    "    \"\"\"\n",
    "\n",
    "    # Initialize matrix B to first column of A\n",
    "    B = A[:,0]\n",
    "\n",
    "    # Construct B\n",
    "    _rank = 1\n",
    "    for i in range(1, A.shape[1]):\n",
    "        _col = A[:,i]\n",
    "\n",
    "        # Add next column of A to _B\n",
    "        _B = np.column_stack((B, _col))\n",
    "\n",
    "        # Check if the rank of _B is equal to the rank of A\n",
    "        if np.linalg.matrix_rank(_B) > _rank:\n",
    "            B = _B\n",
    "            _rank += 1\n",
    "\n",
    "    return B"
   ]
  },
  {
   "cell_type": "code",
   "execution_count": 8,
   "metadata": {
    "pycharm": {
     "name": "#%%\n"
    }
   },
   "outputs": [
    {
     "name": "stdout",
     "output_type": "stream",
     "text": [
      "Expected:\n",
      "[[ 12  11 -24  15]\n",
      " [ 19  10 -31   9]\n",
      " [  1  21  -5  20]\n",
      " [  6  13 -10   5]\n",
      " [ 22   2 -12  23]]\n",
      "\n",
      "Actual:\n",
      "[[ 12  11 -24  15]\n",
      " [ 19  10 -31   9]\n",
      " [  1  21  -5  20]\n",
      " [  6  13 -10   5]\n",
      " [ 22   2 -12  23]]\n"
     ]
    }
   ],
   "source": [
    "## Test cases for problem 4\n",
    "\n",
    "_A_matrix = np.array([[12,24,0,11,-24,18,15],\n",
    "                      [19,38,0,10,-31,25,9],\n",
    "                      [1,2,0,21,-5,3,20],\n",
    "                      [6,12,0,13,-10,8,5],\n",
    "                      [22,44,0,2,-12,17,23]])\n",
    "\n",
    "_B_matrix = my_make_lin_ind(_A_matrix)\n",
    "\n",
    "# print the output\n",
    "print(\"Expected:\")\n",
    "print(np.array([\n",
    "    [12,11,-24,15],\n",
    "    [19,10,-31,9],\n",
    "    [1,21,-5,20],\n",
    "    [6,13,-10,5],\n",
    "    [22,2,-12,23]]))\n",
    "\n",
    "print(\"\\nActual:\")\n",
    "print(_B_matrix)"
   ]
  },
  {
   "cell_type": "markdown",
   "metadata": {
    "pycharm": {
     "name": "#%% md\n"
    }
   },
   "source": []
  },
  {
   "cell_type": "code",
   "execution_count": 9,
   "metadata": {
    "pycharm": {
     "name": "#%%\n"
    }
   },
   "outputs": [],
   "source": [
    "def my_rec_det(M: np.array) -> float:\n",
    "    \"\"\"\n",
    "    Function to compute the determinant of a matrix\n",
    "    :param M: Matrix M\n",
    "    :return: Determinant of matrix M\n",
    "    \"\"\"\n",
    "\n",
    "    def my_min_det(m: np.array) -> float:\n",
    "        \"\"\"\n",
    "        Function to compute the determinant of a minor matrix m using Cramer’s rule\n",
    "        :param m: minor matrix m of size 2 x 2\n",
    "        :return: Determinant of minor matrix\n",
    "        \"\"\"\n",
    "\n",
    "        return m[0,0]*m[1,1] - m[0,1]*m[1,0]\n",
    "\n",
    "\n",
    "    def my_det(m: np.array) -> float:\n",
    "        \"\"\"\n",
    "        Recursive function to compute the determinant of a matrix M\n",
    "        :param m:\n",
    "        :return:\n",
    "        \"\"\"\n",
    "\n",
    "        if m.shape == (2, 2):\n",
    "            return my_min_det(m)\n",
    "\n",
    "        else:\n",
    "            _det = 0\n",
    "            for i in range(m.shape[1]):\n",
    "                # Construct minor matrix\n",
    "                _m = m[1:]\n",
    "                _m = np.delete(_m, i, axis = 1)\n",
    "\n",
    "                # Add the determinant of the minor matrix to _det\n",
    "                _det += (-1)**i * m[0,i] * my_det(_m)\n",
    "            return _det\n",
    "\n",
    "\n",
    "    return my_det(M)"
   ]
  },
  {
   "cell_type": "code",
   "execution_count": 10,
   "metadata": {
    "pycharm": {
     "name": "#%%\n"
    }
   },
   "outputs": [
    {
     "name": "stdout",
     "output_type": "stream",
     "text": [
      "\n",
      "Test 1: 3x3\n",
      "Expected:\n",
      "0.005998889206639599\n",
      "Actual:\n",
      "0.005998889206639588\n",
      "\n",
      "Test 2: 4x4\n",
      "Expected:\n",
      "0.05332798365334301\n",
      "Actual:\n",
      "0.053327983653343056\n",
      "\n",
      "Test 3: 5x5\n",
      "Expected:\n",
      "0.08127564326888746\n",
      "Actual:\n",
      "0.08127564326888742\n"
     ]
    }
   ],
   "source": [
    "print(\"\\nTest 1: 3x3\")\n",
    "_A_matrix = np.random.rand(3,3)\n",
    "\n",
    "print(\"Expected:\")\n",
    "print(np.linalg.det(_A_matrix))\n",
    "\n",
    "print(\"Actual:\")\n",
    "print(my_rec_det(_A_matrix))\n",
    "\n",
    "\n",
    "print(\"\\nTest 2: 4x4\")\n",
    "_B_matrix = np.random.rand(4,4)\n",
    "\n",
    "print(\"Expected:\")\n",
    "print(np.linalg.det(_B_matrix))\n",
    "\n",
    "print(\"Actual:\")\n",
    "print(my_rec_det(_B_matrix))\n",
    "\n",
    "\n",
    "print(\"\\nTest 3: 5x5\")\n",
    "_C_matrix = np.random.rand(5,5)\n",
    "\n",
    "print(\"Expected:\")\n",
    "print(np.linalg.det(_C_matrix))\n",
    "\n",
    "print(\"Actual:\")\n",
    "print(my_rec_det(_C_matrix))"
   ]
  },
  {
   "cell_type": "markdown",
   "metadata": {},
   "source": [
    "6. What is the complexity of my_rec_det in the previous problem? Do you think this is an effective way of determining if a matrix is singular or not?"
   ]
  },
  {
   "cell_type": "code",
   "execution_count": 11,
   "metadata": {
    "pycharm": {
     "name": "#%%\n"
    }
   },
   "outputs": [
    {
     "data": {
      "text/plain": [
       "Text(0.5, 1.0, \"Complexity of Cramer's rule\")"
      ]
     },
     "execution_count": 11,
     "metadata": {},
     "output_type": "execute_result"
    },
    {
     "data": {
      "image/png": "[encoded data removed]",
      "text/plain": [
       "<Figure size 432x288 with 1 Axes>"
      ]
     },
     "metadata": {
      "needs_background": "light"
     },
     "output_type": "display_data"
    }
   ],
   "source": [
    "# Checking complexity of my_rec_det for 2x2 to 10x10 matrices\n",
    "import time\n",
    "from matplotlib import pyplot as plt\n",
    "\n",
    "times = np.array([])\n",
    "test_range = range(2, 11)\n",
    "\n",
    "for m_size in test_range:\n",
    "    _A_matrix = np.random.rand(m_size, m_size)\n",
    "\n",
    "    start = time.time()\n",
    "    my_rec_det(_A_matrix)\n",
    "    end = time.time()\n",
    "\n",
    "    times = np.append(times, end-start)\n",
    "\n",
    "fig = plt.plot(test_range, times)\n",
    "plt.xlabel(\"Matrix size\")\n",
    "plt.ylabel(\"Time (s)\")\n",
    "plt.title(\"Complexity of Cramer's rule\")"
   ]
  },
  {
   "cell_type": "markdown",
   "metadata": {},
   "source": [
    "Looking at the time complexity of finding the determinant of an n x n matrix from n=2 to n=12, we can see that the time complexity is $O(n^3)$. This is because the time complexity of my_rec_det and Cramer's rule is $O(n^3)$."
   ]
  },
  {
   "cell_type": "markdown",
   "metadata": {},
   "source": [
    "6. Let p be a vector with length L containing the coefficients of a polynomial of order L−1. For example, the vector p=[1,0,2] is a representation of the polynomial f(x)=1x2+0x+2. Write a function my_poly_der_mat(p), where p is the aforementioned vector, and the output D is the matrix that will return the coefficients of the derivative of p when p is left multiplied by D. For example, the derivative of f(x) is f′(x)=2x, and therefore, d=Dp should yield d=[2,0]. Note this implies that the dimension of D is L−1×L. The point of this problem is to show that integrating polynomials is actually a linear transformation."
   ]
  },
  {
   "cell_type": "code",
   "execution_count": 12,
   "metadata": {
    "pycharm": {
     "name": "#%%\n"
    }
   },
   "outputs": [],
   "source": [
    "def my_poly_der_mat(p: np.array):\n",
    "    \"\"\"\n",
    "    Function to compute the derivative of a polynomial p\n",
    "    :param p: Vector p containing the coefficients of a polynomial\n",
    "    :return: Vector d containing the coefficients of the derivative of p\n",
    "    \"\"\"\n",
    "\n",
    "    # Initialize output matrix d\n",
    "    d = np.zeros(len(p)-1)\n",
    "\n",
    "    # Reverse p\n",
    "    p = p[::-1]\n",
    "\n",
    "    # Compute the derivative of p\n",
    "    for i in range(1, len(p)):\n",
    "        d[i-1] = p[i] * i\n",
    "\n",
    "    # Reverse d and return\n",
    "    return d[::-1]"
   ]
  },
  {
   "cell_type": "code",
   "execution_count": 13,
   "metadata": {
    "pycharm": {
     "name": "#%%\n"
    }
   },
   "outputs": [
    {
     "name": "stdout",
     "output_type": "stream",
     "text": [
      "\n",
      "Test 1: p = [1,0,2]\n",
      "Expected: [2, 0]\n",
      "Actual: [2. 0.]\n",
      "\n",
      "Test 2: p = [1, 2, 3, 4]\n",
      "Expected: [3, 4, 3]\n",
      "Actual: [3. 4. 3.]\n",
      "\n",
      "Test 3: p = [99, 534, 2345, 5467, 23456]\n",
      "Expected: [396, 1602, 4690, 5467]\n",
      "Actual: [ 396. 1602. 4690. 5467.]\n"
     ]
    }
   ],
   "source": [
    "# Test 1: p = [1,0,2]\n",
    "print(\"\\nTest 1: p = [1,0,2]\")\n",
    "print(\"Expected:\", [2,0])\n",
    "print(\"Actual:\", my_poly_der_mat([1,0,2]))\n",
    "\n",
    "# Test 2: p = [1, 2, 3, 4]\n",
    "print(\"\\nTest 2: p = [1, 2, 3, 4]\")\n",
    "print(\"Expected:\", [3, 4, 3])\n",
    "print(\"Actual:\", my_poly_der_mat([1, 2, 3, 4]))\n",
    "\n",
    "# Test 3: p = [99, 534, 2345, 5467, 23456]\n",
    "print(\"\\nTest 3: p = [99, 534, 2345, 5467, 23456]\")\n",
    "print(\"Expected:\", [396, 1602, 4690, 5467])\n",
    "print(\"Actual:\", my_poly_der_mat([99, 534, 2345, 5467, 23456]))"
   ]
  },
  {
   "cell_type": "markdown",
   "metadata": {},
   "source": []
  },
  {
   "cell_type": "markdown",
   "metadata": {},
   "source": [
    "7. Consider the following network consisting of two power supply stations denoted by S1 and S2 and five power recipient nodes denoted by N1 to N5. The nodes are connected by power lines, which are denoted by arrows, and power can flow between nodes along these lines in both directions.\n",
    "Let di be a positive scalar denoting the power demands for node i, and assume that this demand must be met exactly. The capacity of the power supply stations is denoted by S. Power supply stations must run at their capacity. For each arrow, let fj be the power flow along that arrow. Negative flow implies that power is running in the opposite direction of the arrow.\n",
    "Write a function my_flow_calculator(S, d), where S is a 1×2 vector representing the capacity of each power supply station, and d is a 1×5 row vector representing the demands at each node (i.e., d[0] is the demand at node 1). The output argument, f, should be a 1×7 row vector denoting the flows in the network (i.e., f[0]=f1 in the diagram). The flows contained in f should satisfy all constraints of the system, like power generation and demands. Note that there may be more than one solution to the system of equations.\n",
    "The total flow into a node must equal the total flow out of the node plus the demand; that is, for each node i,finflow=foutflow+di. You may assume that ΣSj=Σdi."
   ]
  },
  {
   "cell_type": "code",
   "execution_count": 14,
   "metadata": {
    "pycharm": {
     "name": "#%%\n"
    }
   },
   "outputs": [],
   "source": [
    "def my_flow_calculator(S: np.array, d: np.array):\n",
    "    \"\"\"\n",
    "    Function to compute the flows in a network\n",
    "    :param S: Vector S containing the capacity of each power supply station\n",
    "    :param d: Vector d containing the demands at each node\n",
    "    :return: Vector f containing the flows in the network\n",
    "    \"\"\"\n",
    "\n",
    "    # Initialize i matrix based on given flow chart\n",
    "    i = np.array([\n",
    "        [0, 0, -1, 1, 0, -1, 0],\n",
    "        [0, 0, 0, 0, 1, 0, -1],\n",
    "        [0, 1, 0, 0, 0, 0, 0],\n",
    "        [1, -1, 1, 0, 0, 0, 0],\n",
    "        [0, 0, 0, 0, 0, 1, 1],\n",
    "        [1, 0, 0, 0, 0, 0, 0],\n",
    "        [0, 0, 0, 1, 1, 0, 0]\n",
    "    ])\n",
    "\n",
    "    # Create matrix o = vertically stacked d and S\n",
    "    o = np.concatenate((d, S), axis=1).transpose()\n",
    "\n",
    "    # Solve for f and return\n",
    "    return np.linalg.lstsq(i, o, rcond=None)[0].transpose()\n"
   ]
  },
  {
   "cell_type": "code",
   "execution_count": 15,
   "metadata": {
    "pycharm": {
     "name": "#%%\n"
    }
   },
   "outputs": [
    {
     "name": "stdout",
     "output_type": "stream",
     "text": [
      "Test 1: S = [10, 10], d = [4, 4, 4, 4, 4]\n",
      "Expected: [[10.0, 4.0, -2.0, 4.5, 5.5, 2.5, 1.5]]\n",
      "Actual:   [[10.   4.  -2.   4.5  5.5  2.5  1.5]]\n",
      "\n",
      "Test 2: S = [10, 10], d = [3, 4, 5, 4, 4]\n",
      "Expected: [[10.0, 5.0, -1.0, 4.5, 5.5, 2.5, 1.5]]\n",
      "Actual:   [[10.   5.  -1.   4.5  5.5  2.5  1.5]]\n"
     ]
    }
   ],
   "source": [
    "## Test cases for problem 4\n",
    "\n",
    "print(\"Test 1: S = [10, 10], d = [4, 4, 4, 4, 4]\")\n",
    "print(\"Expected:\", [[10.0, 4.0, -2.0, 4.5, 5.5, 2.5, 1.5]])\n",
    "print(\"Actual:  \", my_flow_calculator(np.array([[10, 10]]), np.array([[4, 4, 4, 4, 4]])))\n",
    "\n",
    "\n",
    "print(\"\\nTest 2: S = [10, 10], d = [3, 4, 5, 4, 4]\")\n",
    "print(\"Expected:\", [[10.0, 5.0, -1.0, 4.5, 5.5, 2.5, 1.5]])\n",
    "print(\"Actual:  \", my_flow_calculator(np.array([[10, 10]]),\n",
    "                                      np.array([[3, 4, 5, 4, 4]])))"
   ]
  },
  {
   "cell_type": "markdown",
   "metadata": {},
   "source": [
    "## Eigenvalues and Eigenvectors\n",
    "\n",
    "1. Get the largest eigenvalue and eigenvector for matrix A= [2 1 2; 1 3 2; 2 4 1] using the power method. You can start with initial vector [1, 1, 1], see what you will get after 8 iterations."
   ]
  },
  {
   "cell_type": "code",
   "execution_count": 16,
   "metadata": {
    "pycharm": {
     "name": "#%%\n"
    }
   },
   "outputs": [],
   "source": [
    "def my_power_eig(A: np.array, iters: int) -> (np.array, np.array):\n",
    "    \"\"\"\n",
    "    Function to compute the largest eigenvalue using power method\n",
    "    :param A: Matrix A\n",
    "    :param iters: Number of iterations\n",
    "    :return: Vector e containing the eigenvalues of A, and matrix v containing the eigenvectors of A\n",
    "    \"\"\"\n",
    "\n",
    "    lambda_v = 0\n",
    "\n",
    "    # Initialize v matrix, same len as A\n",
    "    v = np.ones(A.__len__())\n",
    "\n",
    "    for i in range(iters):\n",
    "        # compute v = A * v\n",
    "        v = np.dot(A, v)\n",
    "\n",
    "        # Normalize v\n",
    "        lambda_v = abs(v).max()\n",
    "        v = v / v.max()\n",
    "\n",
    "    # Round\n",
    "    # lambda_v = round(lambda_v, 3)\n",
    "    # v = np.round(v, 3)\n",
    "\n",
    "    return lambda_v, v"
   ]
  },
  {
   "cell_type": "code",
   "execution_count": 17,
   "metadata": {
    "pycharm": {
     "name": "#%%\n"
    }
   },
   "outputs": [
    {
     "name": "stdout",
     "output_type": "stream",
     "text": [
      "Test 1: A = [2 1 2; 1 3 2; 2 4 1]\n",
      "Expected Eigenvalue: 6.029111920025985\n",
      "Actual Eigenvalue:   6.029088043137578\n",
      "Percent Error:       0.0004 %\n",
      "\n",
      "Expected Eigenvector: (array([ 6.02911192,  1.33625596, -1.36536788]), array([[-0.47185751, -0.88987496, -0.42138925],\n",
      "       [-0.58896955,  0.45081499, -0.29617582],\n",
      "       [-0.65609859,  0.0699171 ,  0.85715284]]))\n",
      "Actual Eigenvector:   (6.029088043137578, array([0.71918849, 0.8976852 , 1.        ]))\n"
     ]
    }
   ],
   "source": [
    "# Test with A = [2 1 2; 1 3 2; 2 4 1]\n",
    "print(\"Test 1: A = [2 1 2; 1 3 2; 2 4 1]\")\n",
    "max_eig_exp = np.linalg.eigvals(np.array([[2, 1, 2], [1, 3, 2], [2, 4, 1]])).max(initial=None)\n",
    "max_eig_act = my_power_eig(np.array([[2, 1, 2], [1, 3, 2], [2, 4, 1]]), 8)[0]\n",
    "\n",
    "print(\"Expected Eigenvalue:\", max_eig_exp)\n",
    "print(\"Actual Eigenvalue:  \", max_eig_act)\n",
    "print(\"Percent Error:      \", round((max_eig_exp - max_eig_act) / max_eig_exp * 100, 5), \"%\\n\")\n",
    "\n",
    "print(\"Expected Eigenvector:\", np.linalg.eig(np.array([[2, 1, 2], [1, 3, 2], [2, 4, 1]])))\n",
    "print(\"Actual Eigenvector:  \", my_power_eig(np.array([[2, 1, 2], [1, 3, 2], [2, 4, 1]]), 8))"
   ]
  },
  {
   "cell_type": "code",
   "execution_count": 18,
   "metadata": {
    "pycharm": {
     "name": "#%%\n"
    }
   },
   "outputs": [],
   "source": [
    "def my_inv_power_eig(A: np.array, iters: int) -> (np.array, np.array):\n",
    "    \"\"\"\n",
    "    Function to compute the smallest eigenvalue using inverse power method\n",
    "    :param A: Matrix A\n",
    "    :param iters: Number of iterations\n",
    "    :return: Vector e containing the eigenvalues of A, and matrix v containing the eigenvectors of A\n",
    "    \"\"\"\n",
    "\n",
    "    # Invert A\n",
    "    A  = np.linalg.inv(A)\n",
    "\n",
    "    # Initialize lambda_v\n",
    "    lambda_v = 0\n",
    "\n",
    "    # Initialize v matrix, same len as A\n",
    "    v = np.ones(A.__len__())\n",
    "\n",
    "    for i in range(iters):\n",
    "        # compute v = A * v\n",
    "        v = np.dot(A, v)\n",
    "\n",
    "        # Normalize v\n",
    "        lambda_v = abs(v).max()\n",
    "        v = v / v.max()\n",
    "\n",
    "    # Round\n",
    "    # lambda_v = round(lambda_v, 3)\n",
    "    # v = np.round(v, 3)\n",
    "\n",
    "    return lambda_v, v"
   ]
  },
  {
   "cell_type": "code",
   "execution_count": 19,
   "metadata": {
    "pycharm": {
     "name": "#%%\n"
    }
   },
   "outputs": [
    {
     "name": "stdout",
     "output_type": "stream",
     "text": [
      "Test 2: A = [2 1 2; 1 3 2; 2 4 1]\n",
      "Expected Eigenvalue: -1.3653678832385765\n",
      "Actual Eigenvalue:   1.3284206550294024\n",
      "Percent Error:       197.29397 %\n"
     ]
    }
   ],
   "source": [
    "# Test with same A as above\n",
    "print(\"Test 2: A = [2 1 2; 1 3 2; 2 4 1]\")\n",
    "min_eig_exp = np.linalg.eigvals(np.array([[2, 1, 2], [1, 3, 2], [2, 4, 1]])).min(initial=None)\n",
    "min_eig_act = my_inv_power_eig(np.array([[2, 1, 2], [1, 3, 2], [2, 4, 1]]), 8)[0]\n",
    "\n",
    "print(\"Expected Eigenvalue:\", min_eig_exp)\n",
    "print(\"Actual Eigenvalue:  \", min_eig_act)\n",
    "print(\"Percent Error:      \", round((min_eig_exp - min_eig_act) / min_eig_exp * 100, 5), \"%\")"
   ]
  },
  {
   "cell_type": "markdown",
   "metadata": {},
   "source": [
    "### Matrix Normalization"
   ]
  },
  {
   "cell_type": "code",
   "execution_count": 20,
   "metadata": {
    "pycharm": {
     "name": "#%%\n"
    }
   },
   "outputs": [],
   "source": [
    "def my_norm(A: np.array) -> np.array:\n",
    "    \"\"\"\n",
    "    Function to normalize a matrix\n",
    "    :param A: Matrix A\n",
    "    :return: Matrix A normalized\n",
    "    \"\"\"\n",
    "\n",
    "    # Create a ones matrix same shape as A\n",
    "    A_norm  = np.ones(A.shape)\n",
    "\n",
    "    # Normalize Matrix A\n",
    "    # Iterate through each column\n",
    "    for i in range(A.shape[1]):\n",
    "        # Get the column\n",
    "        col = A[:, i]\n",
    "\n",
    "        # Get the normalized sum of the column\n",
    "        col_sum = np.sqrt(np.sum(col ** 2))\n",
    "\n",
    "        # Normalize the column\n",
    "        col_norm = col / col_sum\n",
    "\n",
    "        # Update A_norm\n",
    "        A_norm[:, i] = col_norm\n",
    "\n",
    "    return A_norm"
   ]
  },
  {
   "cell_type": "markdown",
   "metadata": {},
   "source": []
  },
  {
   "cell_type": "markdown",
   "metadata": {},
   "source": [
    "#### Matrix Transpose"
   ]
  },
  {
   "cell_type": "code",
   "execution_count": 21,
   "metadata": {
    "pycharm": {
     "name": "#%%\n"
    }
   },
   "outputs": [],
   "source": [
    "def transpose(A: np.array) -> np.array:\n",
    "    \"\"\"\n",
    "    Function to transpose a matrix\n",
    "    :param A: Matrix A\n",
    "    :return: Matrix A transposed\n",
    "    \"\"\"\n",
    "\n",
    "    # zip():        Iterate over several iterables in parallel, producing tuples with an item from each one.\n",
    "    # zip(*A):      zip(A[0], A[1], ...). It is equivalent to A.T\n",
    "    # list(tup):    converts a tuple to a list\n",
    "    # np.array():   converts a list to a numpy array\n",
    "\n",
    "    return np.array([list(tup) for tup in zip(*A)])"
   ]
  },
  {
   "cell_type": "code",
   "execution_count": 22,
   "metadata": {
    "pycharm": {
     "name": "#%%\n"
    }
   },
   "outputs": [
    {
     "name": "stdout",
     "output_type": "stream",
     "text": [
      "Test 1: A = [1 2 3; 4 5 6; 7 8 9]\n",
      "Expected:\n",
      " [[1 4 7]\n",
      " [2 5 8]\n",
      " [3 6 9]]\n",
      "Actual:  \n",
      " [[1 4 7]\n",
      " [2 5 8]\n",
      " [3 6 9]]\n",
      "Expected == Actual: True\n"
     ]
    }
   ],
   "source": [
    "# Test with A = [1 2 3; 4 5 6; 7 8 9]\n",
    "print(\"Test 1: A = [1 2 3; 4 5 6; 7 8 9]\")\n",
    "_A_matrix = np.array([[1, 2, 3], [4, 5, 6], [7, 8, 9]])\n",
    "_transposed_exp = _A_matrix.transpose()\n",
    "_transposed_act = transpose(_A_matrix)\n",
    "\n",
    "print(\"Expected:\\n\", _transposed_exp)\n",
    "print(\"Actual:  \\n\", _transposed_act)\n",
    "\n",
    "# Check if transpose is correct\n",
    "print(\"Expected == Actual:\", np.array_equal(_transposed_exp, _transposed_act))"
   ]
  },
  {
   "cell_type": "markdown",
   "metadata": {},
   "source": [
    "#### Cross and Dot Product"
   ]
  },
  {
   "cell_type": "code",
   "execution_count": 23,
   "metadata": {
    "pycharm": {
     "name": "#%%\n"
    }
   },
   "outputs": [],
   "source": [
    "def dot(A: np.array, B: np.array) -> float or np.array:\n",
    "    \"\"\"\n",
    "    Function to compute the dot product of two matrices\n",
    "    :param A: Matrix A\n",
    "    :param B: Matrix B\n",
    "    :return: Matrix A dot Matrix B\n",
    "    \"\"\"\n",
    "\n",
    "    # Check if A and B are the same shape\n",
    "    if A.shape != B.shape:\n",
    "        raise ValueError(\"A and B must be the same shape\")\n",
    "\n",
    "    # Vector dot product\n",
    "    if (len(A.shape) == 1) and (len(B.shape) == 1):\n",
    "        _sum = 0\n",
    "        for i in range(max(list(A.shape))):\n",
    "            _sum += A[i] * B[i]\n",
    "\n",
    "        return _sum\n",
    "\n",
    "\n",
    "    # Matrix dot product\n",
    "    else:\n",
    "        # Create a matrix to store the dot product\n",
    "        C = np.zeros(A.shape)\n",
    "\n",
    "        # Iterate through each row\n",
    "        for i in range(A.shape[0]):\n",
    "            # Iterate through each column\n",
    "            for j in range(A.shape[1]):\n",
    "\n",
    "                # Get the dot product of the row and column\n",
    "                # Recursion:\n",
    "                C[i, j] = dot(A[i, :], B[:, j])\n",
    "\n",
    "        return C"
   ]
  },
  {
   "cell_type": "code",
   "execution_count": 24,
   "metadata": {
    "pycharm": {
     "name": "#%%\n"
    }
   },
   "outputs": [
    {
     "name": "stdout",
     "output_type": "stream",
     "text": [
      "Test 1: A = [1 2 3; 4 5 6; 7 8 9] and B = [9 8 7; 6 5 4; 3 2 1]\n",
      "Expected:\n",
      " [[ 30  24  18]\n",
      " [ 84  69  54]\n",
      " [138 114  90]]\n",
      "Actual:  \n",
      " [[ 30.  24.  18.]\n",
      " [ 84.  69.  54.]\n",
      " [138. 114.  90.]]\n",
      "Expected == Actual: True\n"
     ]
    }
   ],
   "source": [
    "# Test with A = [1 2 3; 4 5 6; 7 8 9] and B = [1 2 3; 4 5 6; 7 8 9]\n",
    "print(\"Test 1: A = [1 2 3; 4 5 6; 7 8 9] and B = [9 8 7; 6 5 4; 3 2 1]\")\n",
    "\n",
    "_A_matrix = np.array([[1, 2, 3], [4, 5, 6], [7, 8, 9]])\n",
    "_B_matrix = np.array([[9, 8, 7], [6, 5, 4], [3, 2, 1]])\n",
    "\n",
    "_dot_exp = np.dot(_A_matrix, _B_matrix)\n",
    "_dot_act = dot(_A_matrix, _B_matrix)\n",
    "\n",
    "print(\"Expected:\\n\", _dot_exp)\n",
    "print(\"Actual:  \\n\", _dot_act)\n",
    "print(\"Expected == Actual:\", np.array_equal(_dot_exp, _dot_act))"
   ]
  },
  {
   "cell_type": "code",
   "execution_count": 25,
   "metadata": {
    "pycharm": {
     "name": "#%%\n"
    }
   },
   "outputs": [],
   "source": [
    "def cross(A: np.array, B: np.array) -> np.array:\n",
    "    \"\"\"\n",
    "    Function to compute the cross product of two matrices\n",
    "    :param A: Matrix A\n",
    "    :param B: Matrix B\n",
    "    :return: A x B\n",
    "    \"\"\"\n",
    "\n",
    "    # Check if A and B are the same shape\n",
    "    if A.shape != B.shape:\n",
    "        raise ValueError(\"A and B must have compatible shapes\")\n",
    "\n",
    "    # Create a matrix to store the cross product\n",
    "    C = np.zeros(A.shape[0])\n",
    "\n",
    "    # Vector cross product\n",
    "    if (len(A.shape) == 1) and (len(B.shape) == 1):\n",
    "        AB = np.row_stack((A, B))\n",
    "        for i in range(max(list(A.shape))):\n",
    "            cols = [0, 1, 2]\n",
    "            cols.remove(i)\n",
    "            C[i] = ((-1) ** i) * my_rec_det(AB[:, cols])\n",
    "\n",
    "    else:\n",
    "        raise ValueError(\"A and B must be vectors\")\n",
    "\n",
    "    return C"
   ]
  },
  {
   "cell_type": "code",
   "execution_count": 26,
   "metadata": {
    "pycharm": {
     "name": "#%%\n"
    }
   },
   "outputs": [
    {
     "name": "stdout",
     "output_type": "stream",
     "text": [
      "Test 1: A = [1 2 3] and B = [9 8 7]\n",
      "Expected:\n",
      " [-10  20 -10]\n",
      "Actual:  \n",
      " [-10.  20. -10.]\n",
      "Expected == Actual: True\n"
     ]
    }
   ],
   "source": [
    "# Test with A = [1 2 3; 4 5 6; 7 8 9] and B = [1 2 3; 4 5 6; 7 8 9]\n",
    "print(\"Test 1: A = [1 2 3] and B = [9 8 7]\")\n",
    "\n",
    "_A_matrix = np.array([1, 2, 3])\n",
    "_B_matrix = np.array([9, 8, 7])\n",
    "\n",
    "_cross_exp = np.cross(_A_matrix, _B_matrix)\n",
    "_cross_act = cross(_A_matrix, _B_matrix)\n",
    "\n",
    "print(\"Expected:\\n\", _cross_exp)\n",
    "print(\"Actual:  \\n\", _cross_act)\n",
    "print(\"Expected == Actual:\", np.array_equal(_cross_exp, _cross_act))"
   ]
  },
  {
   "cell_type": "markdown",
   "metadata": {},
   "source": [
    "#### Euclidean Norm"
   ]
  },
  {
   "cell_type": "code",
   "execution_count": 27,
   "metadata": {
    "pycharm": {
     "name": "#%%\n"
    }
   },
   "outputs": [],
   "source": [
    "def norm(A: np.array) -> float:\n",
    "    \"\"\"\n",
    "    Function to calculate the euclidean norm of a matrix\n",
    "    Euclidean norm: sqrt of sum of squares of each element in a matrix\n",
    "    :param A: Matrix A\n",
    "    :return: Euclidean norm of A\n",
    "    \"\"\"\n",
    "\n",
    "    return np.sqrt(np.sum(A ** 2))"
   ]
  },
  {
   "cell_type": "code",
   "execution_count": 28,
   "metadata": {
    "pycharm": {
     "name": "#%%\n"
    }
   },
   "outputs": [
    {
     "name": "stdout",
     "output_type": "stream",
     "text": [
      "Expected:  16.881943016134134\n",
      "Actual:    16.881943016134134\n",
      "Percent Error:       0.0 %\n"
     ]
    }
   ],
   "source": [
    "# Test with A = [1 2 3; 4 5 6; 7 8 9]\n",
    "_A_matrix = np.array([[1, 2, 3], [4, 5, 6], [7, 8, 9]])\n",
    "_norm_exp = np.linalg.norm(_A_matrix)\n",
    "_norm_act = norm(_A_matrix)\n",
    "\n",
    "print(\"Expected: \", _norm_exp)\n",
    "print(\"Actual:   \", _norm_act)\n",
    "print(\"Percent Error:      \", round((_norm_exp - _norm_act) / _norm_exp * 100, 5), \"%\")"
   ]
  },
  {
   "cell_type": "markdown",
   "metadata": {},
   "source": [
    "## Least Squares Regression"
   ]
  },
  {
   "cell_type": "code",
   "execution_count": 29,
   "metadata": {
    "pycharm": {
     "name": "#%%\n"
    }
   },
   "outputs": [],
   "source": [
    "def linear_regression(x: np.array, y: np.array) -> np.array:\n",
    "    \"\"\"\n",
    "    Linear Regression Function\n",
    "    :param x: x values\n",
    "    :param y: y values\n",
    "    :return: Linear model coefficients\n",
    "    \"\"\"\n",
    "    # Assemble matrix A from x\n",
    "    A = np.vstack([x, np.ones(len(x))]).T\n",
    "\n",
    "    # Turn y into a column vector\n",
    "    y = y[:, np.newaxis]\n",
    "\n",
    "    # Calculate the pseudo-inverse of A\n",
    "    # A_pinv = (At * A)^-1 * At\n",
    "    pinv = np.dot(np.linalg.inv(np.dot(A.T,A)),A.T)\n",
    "    # pinv = np.linalg.pinv(A)\n",
    "\n",
    "    return np.dot(pinv, y)"
   ]
  },
  {
   "cell_type": "code",
   "execution_count": 30,
   "metadata": {
    "pycharm": {
     "name": "#%%\n"
    }
   },
   "outputs": [],
   "source": [
    "def plot_lin_regression(x: np.array, y: np.array) -> None:\n",
    "    \"\"\"\n",
    "    Function to plot the linear regression\n",
    "    :param x: x values\n",
    "    :param y: y values\n",
    "    :return: None\n",
    "    \"\"\"\n",
    "    alpha = linear_regression(x, y)\n",
    "    print(alpha)\n",
    "\n",
    "    # Plot the data\n",
    "    plt.style.use('seaborn-poster')\n",
    "\n",
    "    # plot the results\n",
    "    plt.figure(figsize = (10,10))\n",
    "    plt.plot(x, y, 'g.')\n",
    "    plt.plot(x, alpha[0]*x + alpha[1], 'r')\n",
    "    plt.xlabel('x')\n",
    "    plt.ylabel('y')\n",
    "    plt.title(\"Linear Regression\")\n",
    "    plt.show()"
   ]
  },
  {
   "cell_type": "code",
   "execution_count": 31,
   "metadata": {
    "pycharm": {
     "name": "#%%\n"
    }
   },
   "outputs": [
    {
     "name": "stdout",
     "output_type": "stream",
     "text": [
      "[[1.54784863]\n",
      " [0.38649489]]\n"
     ]
    },
    {
     "data": {
      "image/png": "[encoded data removed]",
      "text/plain": [
       "<Figure size 720x720 with 1 Axes>"
      ]
     },
     "metadata": {
      "needs_background": "light"
     },
     "output_type": "display_data"
    }
   ],
   "source": [
    "# Linear Regression Test 1, with linear model\n",
    "# generate x and y\n",
    "_x_vals = np.linspace(1, 100, 101)\n",
    "_y_vals = 1 + _x_vals + _x_vals * np.random.random(len(_x_vals))\n",
    "\n",
    "plot_lin_regression(_x_vals, _y_vals)"
   ]
  },
  {
   "cell_type": "code",
   "execution_count": 32,
   "metadata": {
    "pycharm": {
     "name": "#%%\n"
    }
   },
   "outputs": [
    {
     "name": "stdout",
     "output_type": "stream",
     "text": [
      "[[  12.05454825]\n",
      " [5031.59600972]]\n"
     ]
    },
    {
     "data": {
      "image/png": "[encoded data removed]",
      "text/plain": [
       "<Figure size 720x720 with 1 Axes>"
      ]
     },
     "metadata": {
      "needs_background": "light"
     },
     "output_type": "display_data"
    }
   ],
   "source": [
    "# Linear Regression Test 2, with quadratic model\n",
    "# generate x and y\n",
    "_x_vals = np.linspace(-100, 100, 101)\n",
    "_y_vals = _x_vals ** 2 + 9*_x_vals + 18 + _x_vals ** 2 * np.random.random(len(_x_vals))\n",
    "\n",
    "plot_lin_regression(_x_vals, _y_vals)"
   ]
  },
  {
   "cell_type": "code",
   "execution_count": 33,
   "metadata": {
    "pycharm": {
     "name": "#%%\n"
    }
   },
   "outputs": [],
   "source": [
    "def quadratic_regression(x: np.array, y: np.array) -> np.array:\n",
    "    \"\"\"\n",
    "    Function to perform quadratic regression\n",
    "    :param x: x values\n",
    "    :param y: y values\n",
    "    :return: Quadratic model coefficients\n",
    "    \"\"\"\n",
    "\n",
    "    # Assemble matrix A from x\n",
    "    A = np.vstack([x ** 2, x])\n",
    "    A = np.vstack([A, np.ones(len(x))]).T\n",
    "\n",
    "    # Turn y into a column vector\n",
    "    y = y[:, np.newaxis]\n",
    "\n",
    "    # Calculate the pseudo-inverse of A\n",
    "    # A_pinv = (At * A)^-1 * At\n",
    "    pinv = np.dot(np.linalg.inv(np.dot(A.T,A)),A.T)\n",
    "    # pinv = np.linalg.pinv(A)\n",
    "\n",
    "    return np.dot(pinv, y)"
   ]
  },
  {
   "cell_type": "code",
   "execution_count": 34,
   "metadata": {
    "pycharm": {
     "name": "#%%\n"
    }
   },
   "outputs": [],
   "source": [
    "def plot_quad_regression(x: np.array, y: np.array) -> None:\n",
    "    \"\"\"\n",
    "    Function to plot the quadratic regression\n",
    "    :param x: x values\n",
    "    :param y: y values\n",
    "    :return: None\n",
    "    \"\"\"\n",
    "    alpha = quadratic_regression(x, y)\n",
    "    print(alpha)\n",
    "\n",
    "    # Plot the data\n",
    "    plt.style.use('seaborn-poster')\n",
    "\n",
    "    # plot the results\n",
    "    plt.figure(figsize = (10,10))\n",
    "    plt.plot(x, y, 'g.')\n",
    "    plt.plot(x, alpha[0]*x**2 + alpha[1]*x + alpha[2], 'r')\n",
    "    plt.xlabel('x')\n",
    "    plt.ylabel('y')\n",
    "    plt.title(\"Quadratic Regression\")\n",
    "    plt.show()"
   ]
  },
  {
   "cell_type": "code",
   "execution_count": 35,
   "metadata": {
    "pycharm": {
     "name": "#%%\n"
    }
   },
   "outputs": [
    {
     "name": "stdout",
     "output_type": "stream",
     "text": [
      "[[   1.58880785]\n",
      " [   8.06228745]\n",
      " [-162.59446087]]\n"
     ]
    },
    {
     "data": {
      "image/png": "[encoded data removed]",
      "text/plain": [
       "<Figure size 720x720 with 1 Axes>"
      ]
     },
     "metadata": {
      "needs_background": "light"
     },
     "output_type": "display_data"
    }
   ],
   "source": [
    "## Linear Regression Test 1, with quadratic model\n",
    "# generate x and y\n",
    "_x_vals = np.linspace(-100, 100, 101)\n",
    "_y_vals = _x_vals ** 2 + 9*_x_vals + 18 + _x_vals ** 2 * np.random.random(len(_x_vals))\n",
    "\n",
    "plot_quad_regression(_x_vals, _y_vals)"
   ]
  },
  {
   "cell_type": "code",
   "execution_count": 36,
   "metadata": {
    "pycharm": {
     "name": "#%%\n"
    }
   },
   "outputs": [],
   "source": [
    "def nth_regression(x: np.array, y:np.array, degree: int) -> np.array:\n",
    "\n",
    "    # Build A\n",
    "    A = np.array([x ** degree])\n",
    "    for i in reversed(range(degree)):\n",
    "        A = np.vstack([A, x ** i])\n",
    "    A = A.transpose()\n",
    "\n",
    "    # Turn y into a column vector\n",
    "    y = y[:, np.newaxis]\n",
    "\n",
    "    # Calculate the pseudo-inverse of A\n",
    "    # A_pinv = (At * A)^-1 * At\n",
    "    pinv = np.dot(np.linalg.inv(np.dot(A.T,A)),A.T)\n",
    "    # pinv = np.linalg.pinv(A)\n",
    "\n",
    "    return np.dot(pinv, y)"
   ]
  },
  {
   "cell_type": "code",
   "execution_count": 37,
   "metadata": {
    "pycharm": {
     "name": "#%%\n"
    }
   },
   "outputs": [],
   "source": [
    "def plot_nth_regression(x: np.array, y: np.array, degree: int) -> None:\n",
    "    \"\"\"\n",
    "    Function to plot the nth degree regression\n",
    "    :param x: x values\n",
    "    :param y: y values\n",
    "    :param degree: degree of the polynomial\n",
    "    :return: None\n",
    "    \"\"\"\n",
    "\n",
    "    alpha = nth_regression(x, y, degree)\n",
    "    print(alpha)\n",
    "\n",
    "    res = 0\n",
    "    for i in range(degree):\n",
    "        res += alpha[i] * x ** (degree - i)\n",
    "\n",
    "    # Plot the data\n",
    "    plt.style.use('seaborn-poster')\n",
    "\n",
    "    # plot the results\n",
    "    plt.figure(figsize = (10,10))\n",
    "    plt.plot(x, y, 'g.')\n",
    "    plt.plot(x, res, 'r')\n",
    "    plt.xlabel('x')\n",
    "    plt.ylabel('y')\n",
    "    plt.title(f\"nth Degree Least Squares Regression. Degree = {degree}\")\n",
    "    plt.show()"
   ]
  },
  {
   "cell_type": "code",
   "execution_count": 38,
   "metadata": {
    "pycharm": {
     "name": "#%%\n"
    }
   },
   "outputs": [
    {
     "name": "stdout",
     "output_type": "stream",
     "text": [
      "[[1.47360406]\n",
      " [0.42073584]]\n"
     ]
    },
    {
     "data": {
      "image/png": "[encoded data removed]",
      "text/plain": [
       "<Figure size 720x720 with 1 Axes>"
      ]
     },
     "metadata": {
      "needs_background": "light"
     },
     "output_type": "display_data"
    }
   ],
   "source": [
    "## nth Degree Regression Test 1, with linear model\n",
    "# generate x and y\n",
    "_x_vals = np.linspace(-100, 100, 101)\n",
    "_y_vals = _x_vals + _x_vals * np.random.random(len(_x_vals))\n",
    "plot_nth_regression(_x_vals, _y_vals, 1)"
   ]
  },
  {
   "cell_type": "code",
   "execution_count": 39,
   "metadata": {
    "pycharm": {
     "name": "#%%\n"
    }
   },
   "outputs": [
    {
     "name": "stdout",
     "output_type": "stream",
     "text": [
      "[[  1.45112838]\n",
      " [  5.00062913]\n",
      " [107.09431381]]\n"
     ]
    },
    {
     "data": {
      "image/png": "[encoded data removed]",
      "text/plain": [
       "<Figure size 720x720 with 1 Axes>"
      ]
     },
     "metadata": {
      "needs_background": "light"
     },
     "output_type": "display_data"
    }
   ],
   "source": [
    "## nth Degree Regression Test 2, with quadratic model\n",
    "# generate x and y\n",
    "_x_vals = np.linspace(-100, 100, 101)\n",
    "_y_vals = _x_vals ** 2 + 9*_x_vals + 18 + _x_vals ** 2 * np.random.random(len(_x_vals))\n",
    "\n",
    "plot_nth_regression(_x_vals, _y_vals, 2)"
   ]
  },
  {
   "cell_type": "code",
   "execution_count": 40,
   "metadata": {
    "pycharm": {
     "name": "#%%\n"
    }
   },
   "outputs": [
    {
     "name": "stdout",
     "output_type": "stream",
     "text": [
      "[[1.54202696e+00]\n",
      " [6.15982872e+00]\n",
      " [6.89385562e+01]\n",
      " [3.24077896e+03]]\n"
     ]
    },
    {
     "data": {
      "image/png": "[encoded data removed]",
      "text/plain": [
       "<Figure size 720x720 with 1 Axes>"
      ]
     },
     "metadata": {
      "needs_background": "light"
     },
     "output_type": "display_data"
    }
   ],
   "source": [
    "# nth Degree Regression Test 3, with cubic model\n",
    "# generate x and y\n",
    "_x_vals = np.linspace(-100, 100, 101)\n",
    "_y_vals = _x_vals ** 3 + 9*_x_vals ** 2 + 18 * _x_vals + 18 + _x_vals ** 3 * np.random.random(len(_x_vals))\n",
    "\n",
    "plot_nth_regression(_x_vals, _y_vals, 3)"
   ]
  },
  {
   "cell_type": "code",
   "execution_count": 41,
   "metadata": {
    "pycharm": {
     "name": "#%%\n"
    }
   },
   "outputs": [
    {
     "name": "stdout",
     "output_type": "stream",
     "text": [
      "[[ 1.65879361e+00]\n",
      " [-1.37999747e+01]\n",
      " [-9.18300672e+02]\n",
      " [-5.32668797e+04]\n",
      " [ 5.79962810e+05]]\n"
     ]
    },
    {
     "data": {
      "image/png": "[encoded data removed]",
      "text/plain": [
       "<Figure size 720x720 with 1 Axes>"
      ]
     },
     "metadata": {
      "needs_background": "light"
     },
     "output_type": "display_data"
    }
   ],
   "source": [
    "# nth Degree Regression Test 4, with quartic model\n",
    "# generate x and y\n",
    "_x_vals = np.linspace(-100, 100, 101)\n",
    "_y_vals = _x_vals ** 4 - 27*_x_vals ** 3 + 3 * _x_vals ** 2 - 14 * _x_vals + 18 + _x_vals ** 4 * np.random.random(len(_x_vals))\n",
    "\n",
    "plot_nth_regression(_x_vals, _y_vals, 4)"
   ]
  }
 ],
 "metadata": {
  "kernelspec": {
   "display_name": "Python 3 (ipykernel)",
   "language": "python",
   "name": "python3"
  },
  "language_info": {
   "codemirror_mode": {
    "name": "ipython",
    "version": 3
   },
   "file_extension": ".py",
   "mimetype": "text/x-python",
   "name": "python",
   "nbconvert_exporter": "python",
   "pygments_lexer": "ipython3",
   "version": "3.10.0"
  }
 },
 "nbformat": 4,
 "nbformat_minor": 1
}