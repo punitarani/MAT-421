{
 "cells": [
  {
   "cell_type": "markdown",
   "source": [
    "# Module D: Linear Algebra\n",
    "\n",
    "### Concepts\n",
    "* Elements of Linear Algebra\n",
    "* Linear Regression\n",
    "* Principal Component Analysis"
   ],
   "metadata": {
    "collapsed": false
   }
  },
  {
   "cell_type": "code",
   "execution_count": 1,
   "metadata": {
    "collapsed": true
   },
   "outputs": [],
   "source": [
    "import numpy as np"
   ]
  },
  {
   "cell_type": "markdown",
   "source": [
    "## Linear Algebra and Systems of Linear Equations"
   ],
   "metadata": {
    "collapsed": false
   }
  },
  {
   "cell_type": "markdown",
   "source": [
    "1. Show that matrix multiplication distributes over matrix addition: show A(B+C)=AB+AC assuming that A,B, and C are matrices of compatible size."
   ],
   "metadata": {
    "collapsed": false
   }
  },
  {
   "cell_type": "code",
   "execution_count": 6,
   "outputs": [
    {
     "name": "stdout",
     "output_type": "stream",
     "text": [
      "\n",
      "Matrix A:\n",
      " [[0.77243189 0.22495571 0.95437357]\n",
      " [0.26050489 0.25634261 0.85079185]\n",
      " [0.34727807 0.77821853 0.06919005]]\n",
      "\n",
      "Matrix B:\n",
      " [[0.56411542 0.06111137 0.61128986]\n",
      " [0.96378059 0.04012323 0.08656268]\n",
      " [0.23402567 0.24888312 0.55817977]]\n",
      "\n",
      "Matrix C:\n",
      " [[0.61523114 0.13616112 0.84942711]\n",
      " [0.41476954 0.07015903 0.55897443]\n",
      " [0.83038942 0.39032339 0.78761051]]\n",
      "\n",
      "\n",
      "Comparing the left and right sides of the equation:\n",
      "\n",
      "A(B+C):\n",
      " [[0.9109649  0.04437757 1.39406967]\n",
      " [0.35911904 0.02827004 0.54921771]\n",
      " [0.36964802 0.49744235 0.0931153 ]]\n",
      "\n",
      "AB + AC:\n",
      " [[0.9109649  0.04437757 1.39406967]\n",
      " [0.35911904 0.02827004 0.54921771]\n",
      " [0.36964802 0.49744235 0.0931153 ]]\n",
      "\n",
      "\n",
      "The left side and right side are equal: True\n"
     ]
    }
   ],
   "source": [
    "# Generate three random matrices of size 3x3\n",
    "A = np.random.rand(3,3)\n",
    "B = np.random.rand(3,3)\n",
    "C = np.random.rand(3,3)\n",
    "\n",
    "# Print the matrices\n",
    "print(\"\\nMatrix A:\\n\", A)\n",
    "print(\"\\nMatrix B:\\n\", B)\n",
    "print(\"\\nMatrix C:\\n\", C)\n",
    "\n",
    "# Multiply A by B and C\n",
    "left_side = A * (B + C)\n",
    "right_side = A * B + A * C\n",
    "\n",
    "# Print the results\n",
    "print(\"\\n\\nComparing the left and right sides of the equation:\")\n",
    "print(\"\\nA(B+C):\\n\", left_side)\n",
    "print(\"\\nAB + AC:\\n\", right_side)\n",
    "\n",
    "print(\"\\n\\nThe left side and right side are equal:\", np.allclose(left_side, right_side))"
   ],
   "metadata": {
    "collapsed": false,
    "pycharm": {
     "name": "#%%\n"
    }
   }
  },
  {
   "cell_type": "markdown",
   "source": [
    "2. Write a function my_is_orthogonal(v1,v2, tol), where v1 and v2 are column vectors of the same size and tol is a scalar value strictly larger than 0. The output should be 1 if the angle between v1 and v2 is within tol of π/2; that is, |π/2−θ|<tol, and 0 otherwise. You may assume that v1 and v2 are column vectors of the same size, and that tol is a positive scalar."
   ],
   "metadata": {
    "collapsed": false
   }
  },
  {
   "cell_type": "code",
   "execution_count": 15,
   "outputs": [],
   "source": [
    "def my_is_orthogonal(v1,v2, tol):\n",
    "    \"\"\"\n",
    "    Function to check if two vectors are orthogonal\n",
    "    :param v1: Column vector v1\n",
    "    :param v2: Column vector v2\n",
    "    :param tol: Tolerance value\n",
    "    :return: 1 if the angle between v1 and v2 is within tol of π/2; that is, |π/2−θ|<tol, and 0 otherwise\n",
    "    \"\"\"\n",
    "\n",
    "    # Initialize the angle\n",
    "    angle = 0\n",
    "\n",
    "    # Calculate the angle\n",
    "    for i in range(len(v1)):\n",
    "        angle += v1[i] * v2[i]\n",
    "\n",
    "    # Check if angle is a matrix\n",
    "    if not np.isscalar(angle):\n",
    "        angle = angle[0]\n",
    "\n",
    "    # Check if the angle is within the tolerance\n",
    "    if abs(angle) < tol:\n",
    "        return 1\n",
    "    else:\n",
    "        return 0"
   ],
   "metadata": {
    "collapsed": false,
    "pycharm": {
     "name": "#%%\n"
    }
   }
  },
  {
   "cell_type": "code",
   "execution_count": 20,
   "outputs": [
    {
     "name": "stdout",
     "output_type": "stream",
     "text": [
      "\n",
      "Test 1.1\n",
      "Expected output: 1\n",
      "Actual output:    1\n",
      "\n",
      "Test 1.2\n",
      "Expected output: 0\n",
      "Actual output:    0\n",
      "\n",
      "Test 2.1\n",
      "Expected output: 0\n",
      "Actual output:    0\n",
      "\n",
      "Test 2.2\n",
      "Expected output: 1\n",
      "Actual output:    1\n"
     ]
    }
   ],
   "source": [
    "# Test cases for problem 2\n",
    "a = np.array([[1], [0.001]])\n",
    "b = np.array([[0.001], [1]])\n",
    "\n",
    "# output: 1\n",
    "print(\"\\nTest 1.1\")\n",
    "print(\"Expected output: 1\")\n",
    "print(\"Actual output:   \", my_is_orthogonal(a,b, 0.01))\n",
    "\n",
    "# output: 0\n",
    "print(\"\\nTest 1.2\")\n",
    "print(\"Expected output: 0\")\n",
    "print(\"Actual output:   \", my_is_orthogonal(a,b, 0.001))\n",
    "\n",
    "\n",
    "# output: 0\n",
    "a = np.array([[1], [0.001]])\n",
    "b = np.array([[1], [1]])\n",
    "print(\"\\nTest 2.1\")\n",
    "print(\"Expected output: 0\")\n",
    "print(\"Actual output:   \", my_is_orthogonal(a,b, 0.01))\n",
    "\n",
    "# output: 1\n",
    "a = np.array([[1], [1]])\n",
    "b = np.array([[-1], [1]])\n",
    "print(\"\\nTest 2.2\")\n",
    "print(\"Expected output: 1\")\n",
    "print(\"Actual output:   \", my_is_orthogonal(a,b, 1e-10))"
   ],
   "metadata": {
    "collapsed": false,
    "pycharm": {
     "name": "#%%\n"
    }
   }
  }
 ],
 "metadata": {
  "kernelspec": {
   "display_name": "Python 3",
   "language": "python",
   "name": "python3"
  },
  "language_info": {
   "codemirror_mode": {
    "name": "ipython",
    "version": 2
   },
   "file_extension": ".py",
   "mimetype": "text/x-python",
   "name": "python",
   "nbconvert_exporter": "python",
   "pygments_lexer": "ipython2",
   "version": "2.7.6"
  }
 },
 "nbformat": 4,
 "nbformat_minor": 0
}