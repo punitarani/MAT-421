{
 "cells": [
  {
   "cell_type": "markdown",
   "source": [
    "# Module D: Linear Algebra\n",
    "\n",
    "### Concepts\n",
    "* Elements of Linear Algebra\n",
    "* Linear Regression\n",
    "* Principal Component Analysis"
   ],
   "metadata": {
    "collapsed": false
   }
  },
  {
   "cell_type": "code",
   "execution_count": 258,
   "metadata": {
    "collapsed": true
   },
   "outputs": [],
   "source": [
    "import numpy as np\n",
    "from scipy import linalg"
   ]
  },
  {
   "cell_type": "markdown",
   "source": [
    "## Linear Algebra and Systems of Linear Equations"
   ],
   "metadata": {
    "collapsed": false
   }
  },
  {
   "cell_type": "markdown",
   "source": [
    "1. Show that matrix multiplication distributes over matrix addition: show A(B+C)=AB+AC assuming that A,B, and C are matrices of compatible size."
   ],
   "metadata": {
    "collapsed": false
   }
  },
  {
   "cell_type": "code",
   "execution_count": 27,
   "outputs": [
    {
     "name": "stdout",
     "output_type": "stream",
     "text": [
      "\n",
      "Matrix A:\n",
      " [[0.76901    0.38403519 0.93387282]\n",
      " [0.95349306 0.93922536 0.47492483]\n",
      " [0.33814865 0.02467582 0.45743158]]\n",
      "\n",
      "Matrix B:\n",
      " [[0.95212269 0.28813057 0.74479767]\n",
      " [0.93052602 0.21444346 0.35132826]\n",
      " [0.6489105  0.49564888 0.22482452]]\n",
      "\n",
      "Matrix C:\n",
      " [[0.60423793 0.82040795 0.03352426]\n",
      " [0.55790149 0.97207327 0.61152986]\n",
      " [0.19423259 0.85720262 0.56249779]]\n",
      "\n",
      "\n",
      "Comparing the left and right sides of the equation:\n",
      "\n",
      "A(B+C):\n",
      " [[1.19685688 0.42571781 0.7268537 ]\n",
      " [1.4192053  1.11440661 0.45728523]\n",
      " [0.2851077  0.03338272 0.36014609]]\n",
      "\n",
      "AB + AC:\n",
      " [[1.32356826 0.25813531 1.56766476]\n",
      " [1.79639911 1.08355502 0.39240811]\n",
      " [0.33377271 0.01283944 0.31208549]]\n",
      "\n",
      "\n",
      "The left side and right side are equal: False\n"
     ]
    }
   ],
   "source": [
    "# Generate three random matrices of size 3x3\n",
    "_A_matrix = np.random.rand(3,3)\n",
    "_B_matrix = np.random.rand(3,3)\n",
    "_C_matrix = np.random.rand(3,3)\n",
    "\n",
    "# Print the matrices\n",
    "print(\"\\nMatrix A:\\n\", _A_matrix)\n",
    "print(\"\\nMatrix B:\\n\", _B_matrix)\n",
    "print(\"\\nMatrix C:\\n\", _C_matrix)\n",
    "\n",
    "# Multiply A by B and C\n",
    "left_side = _A_matrix * (_B_matrix + _C_matrix)\n",
    "right_side = _A_matrix * _B_matrix + _A_matrix * _A_matrix\n",
    "\n",
    "# Print the results\n",
    "print(\"\\n\\nComparing the left and right sides of the equation:\")\n",
    "print(\"\\nA(B+C):\\n\", left_side)\n",
    "print(\"\\nAB + AC:\\n\", right_side)\n",
    "\n",
    "print(\"\\n\\nThe left side and right side are equal:\", np.allclose(left_side, right_side))"
   ],
   "metadata": {
    "collapsed": false,
    "pycharm": {
     "name": "#%%\n"
    }
   }
  },
  {
   "cell_type": "markdown",
   "source": [
    "2. Write a function my_is_orthogonal(v1,v2, tol), where v1 and v2 are column vectors of the same size and tol is a scalar value strictly larger than 0. The output should be 1 if the angle between v1 and v2 is within tol of π/2; that is, |π/2−θ|<tol, and 0 otherwise. You may assume that v1 and v2 are column vectors of the same size, and that tol is a positive scalar."
   ],
   "metadata": {
    "collapsed": false
   }
  },
  {
   "cell_type": "code",
   "execution_count": 28,
   "outputs": [],
   "source": [
    "def my_is_orthogonal(v1: np.array,\n",
    "                     v2: np.array,\n",
    "                     tol: float) -> int:\n",
    "    \"\"\"\n",
    "    Function to check if two vectors are orthogonal\n",
    "    :param v1: Column vector v1\n",
    "    :param v2: Column vector v2\n",
    "    :param tol: Tolerance value\n",
    "    :return: 1 if the angle between v1 and v2 is within tol of π/2; that is, |π/2−θ|<tol, and 0 otherwise\n",
    "    \"\"\"\n",
    "\n",
    "    # Initialize the angle\n",
    "    angle = 0\n",
    "\n",
    "    # Calculate the angle\n",
    "    for i in range(len(v1)):\n",
    "        angle += v1[i] * v2[i]\n",
    "\n",
    "    # Check if angle is a matrix\n",
    "    if not np.isscalar(angle):\n",
    "        angle = angle[0]\n",
    "\n",
    "    # Check if the angle is within the tolerance\n",
    "    if abs(angle) < tol:\n",
    "        return 1\n",
    "    else:\n",
    "        return 0"
   ],
   "metadata": {
    "collapsed": false,
    "pycharm": {
     "name": "#%%\n"
    }
   }
  },
  {
   "cell_type": "code",
   "execution_count": 29,
   "outputs": [
    {
     "name": "stdout",
     "output_type": "stream",
     "text": [
      "\n",
      "Test 1.1\n",
      "Expected output: 1\n",
      "Actual output:    1\n",
      "\n",
      "Test 1.2\n",
      "Expected output: 0\n",
      "Actual output:    0\n",
      "\n",
      "Test 2\n",
      "Expected output: 0\n",
      "Actual output:    0\n",
      "\n",
      "Test 2\n",
      "Expected output: 1\n",
      "Actual output:    1\n"
     ]
    }
   ],
   "source": [
    "# Test cases for problem 2\n",
    "_a_test = np.array([[1], [0.001]])\n",
    "_b_test = np.array([[0.001], [1]])\n",
    "\n",
    "# output: 1\n",
    "print(\"\\nTest 1.1\")\n",
    "print(\"Expected output: 1\")\n",
    "print(\"Actual output:   \", my_is_orthogonal(_a_test,_b_test, 0.01))\n",
    "\n",
    "# output: 0\n",
    "print(\"\\nTest 1.2\")\n",
    "print(\"Expected output: 0\")\n",
    "print(\"Actual output:   \", my_is_orthogonal(_a_test,_b_test, 0.001))\n",
    "\n",
    "\n",
    "# output: 0\n",
    "_a_test = np.array([[1], [0.001]])\n",
    "_b_test = np.array([[1], [1]])\n",
    "print(\"\\nTest 2\")\n",
    "print(\"Expected output: 0\")\n",
    "print(\"Actual output:   \", my_is_orthogonal(_a_test,_b_test, 0.01))\n",
    "\n",
    "# output: 1\n",
    "_a_test = np.array([[1], [1]])\n",
    "_b_test = np.array([[-1], [1]])\n",
    "print(\"\\nTest 2\")\n",
    "print(\"Expected output: 1\")\n",
    "print(\"Actual output:   \", my_is_orthogonal(_a_test,_b_test, 1e-10))"
   ],
   "metadata": {
    "collapsed": false,
    "pycharm": {
     "name": "#%%\n"
    }
   }
  },
  {
   "cell_type": "markdown",
   "source": [
    "3. Write a function my_is_similar(s1,s2,tol) where s1 and s2 are strings, not necessarily the same size, and tol is a scalar value strictly larger than 0. From s1 and s2, the function should construct two vectors, v1 and v2, where v1[0] is the number of ‘a’s in s1, v1[1] is the number ‘b’s in s1, and so on until v1[25], which is the number of ‘z’s in v1. The vector v2 should be similarly constructed from s2. The output should be 1 if the absolute value of the angle between v1 and v2 is less than tol; that is, |θ|<tol."
   ],
   "metadata": {
    "collapsed": false
   }
  },
  {
   "cell_type": "code",
   "execution_count": 30,
   "outputs": [],
   "source": [
    "def my_is_similar(s1: str,\n",
    "                  s2: str,\n",
    "                  tol: float) -> int:\n",
    "    \"\"\"\n",
    "    Function to check if two strings are similar\n",
    "    :param s1: String s1\n",
    "    :param s2: String s2\n",
    "    :param tol: Tolerance value\n",
    "    :return: 1 if the angle between v1 and v2 is within tol of π/2; that is, |π/2−θ|<tol, and 0 otherwise\n",
    "    \"\"\"\n",
    "\n",
    "    # Construct v1 and v2\n",
    "    # They consist of the number of each alphabet in s1 and s2\n",
    "\n",
    "    # Initialize the vectors\n",
    "    v1 = np.zeros(26)\n",
    "    v2 = np.zeros(26)\n",
    "\n",
    "\n",
    "    # Count the number of each alphabet in s1 and s2\n",
    "    for i in range(len(s1)):\n",
    "        v1[ord(s1[i]) - 97] += 1\n",
    "\n",
    "    for i in range(len(s2)):\n",
    "        v2[ord(s2[i]) - 97] += 1\n",
    "\n",
    "\n",
    "    # Check orthogonality with function my_is_orthogonal\n",
    "    return my_is_orthogonal(v1,v2, tol)"
   ],
   "metadata": {
    "collapsed": false,
    "pycharm": {
     "name": "#%%\n"
    }
   }
  },
  {
   "cell_type": "code",
   "execution_count": 43,
   "outputs": [
    {
     "name": "stdout",
     "output_type": "stream",
     "text": [
      "\n",
      "Test 1\n",
      "Expected output: 0\n",
      "Actual output:    0\n",
      "\n",
      "Test 2\n",
      "Expected output: 0\n",
      "Actual output:    0\n"
     ]
    }
   ],
   "source": [
    "# Test cases for problem 3\n",
    "_s1_test = \"abcd\"\n",
    "_s2_test = \"abcd\"\n",
    "print(\"\\nTest 1\")\n",
    "print(\"Expected output: 0\")\n",
    "print(\"Actual output:   \", my_is_similar(_s1_test,_s2_test, 0.01))\n",
    "\n",
    "_s1_test = \"abcdefghijklmnopqrstuvwxyz\"\n",
    "_s2_test = \"zyxwvutsrqponmlkjihgfedcba\"\n",
    "print(\"\\nTest 2\")\n",
    "print(\"Expected output: 0\")\n",
    "print(\"Actual output:   \", my_is_similar(_s1_test,_s2_test, 0.01))"
   ],
   "metadata": {
    "collapsed": false,
    "pycharm": {
     "name": "#%%\n"
    }
   }
  },
  {
   "cell_type": "markdown",
   "source": [
    "4. Write a function my_make_lin_ind(A), where A and B are matrices. Let the rank(A)=n. Then B should be a matrix containing the first n columns of A that are all linearly independent. Note that this implies that B is full rank."
   ],
   "metadata": {
    "collapsed": false,
    "pycharm": {
     "name": "#%% md\n"
    }
   }
  },
  {
   "cell_type": "code",
   "execution_count": 187,
   "outputs": [],
   "source": [
    "def my_make_lin_ind(A: np.array) -> np.array:\n",
    "    \"\"\"\n",
    "    Function to make matrix A linearly independent\n",
    "    :param A: Matrix A\n",
    "    :return: Matrix B, containing the first n columns of A that are all linearly independent\n",
    "    \"\"\"\n",
    "\n",
    "    # Initialize matrix B to first column of A\n",
    "    B = A[:,0]\n",
    "\n",
    "    # Construct B\n",
    "    _rank = 1\n",
    "    for i in range(1, A.shape[1]):\n",
    "        _col = A[:,i]\n",
    "\n",
    "        # Add next column of A to _B\n",
    "        _B = np.column_stack((B, _col))\n",
    "\n",
    "        # Check if the rank of _B is equal to the rank of A\n",
    "        if np.linalg.matrix_rank(_B) > _rank:\n",
    "            B = _B\n",
    "            _rank += 1\n",
    "\n",
    "    return B"
   ],
   "metadata": {
    "collapsed": false,
    "pycharm": {
     "name": "#%%\n"
    }
   }
  },
  {
   "cell_type": "code",
   "execution_count": 188,
   "outputs": [
    {
     "name": "stdout",
     "output_type": "stream",
     "text": [
      "Expected:\n",
      "[[ 12  11 -24  15]\n",
      " [ 19  10 -31   9]\n",
      " [  1  21  -5  20]\n",
      " [  6  13 -10   5]\n",
      " [ 22   2 -12  23]]\n",
      "\n",
      "Actual:\n",
      "[[ 12  11 -24  15]\n",
      " [ 19  10 -31   9]\n",
      " [  1  21  -5  20]\n",
      " [  6  13 -10   5]\n",
      " [ 22   2 -12  23]]\n"
     ]
    }
   ],
   "source": [
    "## Test cases for problem 4\n",
    "\n",
    "_A_matrix = np.array([[12,24,0,11,-24,18,15],\n",
    "                      [19,38,0,10,-31,25,9],\n",
    "                      [1,2,0,21,-5,3,20],\n",
    "                      [6,12,0,13,-10,8,5],\n",
    "                      [22,44,0,2,-12,17,23]])\n",
    "\n",
    "_B_matrix = my_make_lin_ind(_A_matrix)\n",
    "\n",
    "# print the output\n",
    "print(\"Expected:\")\n",
    "print(np.array([\n",
    "    [12,11,-24,15],\n",
    "    [19,10,-31,9],\n",
    "    [1,21,-5,20],\n",
    "    [6,13,-10,5],\n",
    "    [22,2,-12,23]]))\n",
    "\n",
    "print(\"\\nActual:\")\n",
    "print(_B_matrix)"
   ],
   "metadata": {
    "collapsed": false,
    "pycharm": {
     "name": "#%%\n"
    }
   }
  },
  {
   "cell_type": "markdown",
   "source": [],
   "metadata": {
    "collapsed": false,
    "pycharm": {
     "name": "#%% md\n"
    }
   }
  },
  {
   "cell_type": "code",
   "execution_count": 200,
   "outputs": [],
   "source": [
    "def my_rec_det(M: np.array) -> float:\n",
    "    \"\"\"\n",
    "    Function to compute the determinant of a matrix\n",
    "    :param M: Matrix M\n",
    "    :return: Determinant of matrix M\n",
    "    \"\"\"\n",
    "\n",
    "    def my_min_det(m: np.array) -> float:\n",
    "        \"\"\"\n",
    "        Function to compute the determinant of a minor matrix m using Cramer’s rule\n",
    "        :param m: minor matrix m of size 2 x 2\n",
    "        :return: Determinant of minor matrix\n",
    "        \"\"\"\n",
    "\n",
    "        return m[0,0]*m[1,1] - m[0,1]*m[1,0]\n",
    "\n",
    "\n",
    "    def my_det(m: np.array) -> float:\n",
    "        \"\"\"\n",
    "        Recursive function to compute the determinant of a matrix M\n",
    "        :param m:\n",
    "        :return:\n",
    "        \"\"\"\n",
    "\n",
    "        if m.shape == (2, 2):\n",
    "            return my_min_det(m)\n",
    "\n",
    "        else:\n",
    "            _det = 0\n",
    "            for i in range(m.shape[1]):\n",
    "                # Construct minor matrix\n",
    "                _m = m[1:]\n",
    "                _m = np.delete(_m, i, axis = 1)\n",
    "\n",
    "                # Add the determinant of the minor matrix to _det\n",
    "                _det += (-1)**i * m[0,i] * my_det(_m)\n",
    "            return _det\n",
    "\n",
    "\n",
    "    return my_det(M)"
   ],
   "metadata": {
    "collapsed": false,
    "pycharm": {
     "name": "#%%\n"
    }
   }
  },
  {
   "cell_type": "code",
   "execution_count": 201,
   "outputs": [
    {
     "name": "stdout",
     "output_type": "stream",
     "text": [
      "\n",
      "Test 1: 3x3\n",
      "Expected:\n",
      "0.017213721498537282\n",
      "Actual:\n",
      "0.017213721498537286\n",
      "\n",
      "Test 2: 4x4\n",
      "Expected:\n",
      "0.0075536841374955095\n",
      "Actual:\n",
      "0.007553684137495505\n",
      "\n",
      "Test 3: 5x5\n",
      "Expected:\n",
      "-0.15099420057021268\n",
      "Actual:\n",
      "-0.15099420057021268\n"
     ]
    }
   ],
   "source": [
    "print(\"\\nTest 1: 3x3\")\n",
    "_A_matrix = np.random.rand(3,3)\n",
    "\n",
    "print(\"Expected:\")\n",
    "print(np.linalg.det(_A_matrix))\n",
    "\n",
    "print(\"Actual:\")\n",
    "print(my_rec_det(_A_matrix))\n",
    "\n",
    "\n",
    "print(\"\\nTest 2: 4x4\")\n",
    "_B_matrix = np.random.rand(4,4)\n",
    "\n",
    "print(\"Expected:\")\n",
    "print(np.linalg.det(_B_matrix))\n",
    "\n",
    "print(\"Actual:\")\n",
    "print(my_rec_det(_B_matrix))\n",
    "\n",
    "\n",
    "print(\"\\nTest 3: 5x5\")\n",
    "_C_matrix = np.random.rand(5,5)\n",
    "\n",
    "print(\"Expected:\")\n",
    "print(np.linalg.det(_C_matrix))\n",
    "\n",
    "print(\"Actual:\")\n",
    "print(my_rec_det(_C_matrix))"
   ],
   "metadata": {
    "collapsed": false,
    "pycharm": {
     "name": "#%%\n"
    }
   }
  },
  {
   "cell_type": "markdown",
   "source": [
    "6. What is the complexity of my_rec_det in the previous problem? Do you think this is an effective way of determining if a matrix is singular or not?"
   ],
   "metadata": {
    "collapsed": false
   }
  },
  {
   "cell_type": "code",
   "execution_count": 203,
   "outputs": [
    {
     "data": {
      "text/plain": "<Figure size 432x288 with 1 Axes>",
      "image/png": "[encoded data removed]"
     },
     "metadata": {
      "needs_background": "light"
     },
     "output_type": "display_data"
    }
   ],
   "source": [
    "# Checking complexity of my_rec_det for 2x2 to 12x12 matrices\n",
    "import time\n",
    "from matplotlib import pyplot as plt\n",
    "\n",
    "times = np.array([])\n",
    "test_range = range(2, 12)\n",
    "\n",
    "for m_size in test_range:\n",
    "    _A_matrix = np.random.rand(m_size, m_size)\n",
    "\n",
    "    start = time.time()\n",
    "    my_rec_det(_A_matrix)\n",
    "    end = time.time()\n",
    "\n",
    "    times = np.append(times, end-start)\n",
    "\n",
    "fig = plt.plot(test_range, times)"
   ],
   "metadata": {
    "collapsed": false,
    "pycharm": {
     "name": "#%%\n"
    }
   }
  },
  {
   "cell_type": "markdown",
   "source": [
    "Looking at the time complexity of finding the determinant of an n x n matrix from n=2 to n=12, we can see that the time complexity is $O(n^3)$. This is because the time complexity of my_rec_det and Cramer's rule is $O(n^3)$."
   ],
   "metadata": {
    "collapsed": false
   }
  },
  {
   "cell_type": "markdown",
   "source": [
    "6. Let p be a vector with length L containing the coefficients of a polynomial of order L−1. For example, the vector p=[1,0,2] is a representation of the polynomial f(x)=1x2+0x+2. Write a function my_poly_der_mat(p), where p is the aforementioned vector, and the output D is the matrix that will return the coefficients of the derivative of p when p is left multiplied by D. For example, the derivative of f(x) is f′(x)=2x, and therefore, d=Dp should yield d=[2,0]. Note this implies that the dimension of D is L−1×L. The point of this problem is to show that integrating polynomials is actually a linear transformation."
   ],
   "metadata": {
    "collapsed": false
   }
  },
  {
   "cell_type": "code",
   "execution_count": 207,
   "outputs": [],
   "source": [
    "def my_poly_der_mat(p: np.array):\n",
    "    \"\"\"\n",
    "    Function to compute the derivative of a polynomial p\n",
    "    :param p: Vector p containing the coefficients of a polynomial\n",
    "    :return: Vector d containing the coefficients of the derivative of p\n",
    "    \"\"\"\n",
    "\n",
    "    # Initialize output matrix d\n",
    "    d = np.zeros(len(p)-1)\n",
    "\n",
    "    # Reverse p\n",
    "    p = p[::-1]\n",
    "\n",
    "    # Compute the derivative of p\n",
    "    for i in range(1, len(p)):\n",
    "        d[i-1] = p[i] * i\n",
    "\n",
    "    # Reverse d and return\n",
    "    return d[::-1]"
   ],
   "metadata": {
    "collapsed": false,
    "pycharm": {
     "name": "#%%\n"
    }
   }
  },
  {
   "cell_type": "code",
   "execution_count": 213,
   "outputs": [
    {
     "name": "stdout",
     "output_type": "stream",
     "text": [
      "\n",
      "Test 1: p = [1,0,2]\n",
      "Expected: [2, 0]\n",
      "Actual: [2. 0.]\n",
      "\n",
      "Test 2: p = [1, 2, 3, 4]\n",
      "Expected: [3, 4, 3]\n",
      "Actual: [3. 4. 3.]\n",
      "\n",
      "Test 3: p = [99, 534, 2345, 5467, 23456]\n",
      "Expected: [396, 1602, 4690, 5467]\n",
      "Actual: [ 396. 1602. 4690. 5467.]\n"
     ]
    }
   ],
   "source": [
    "# Test 1: p = [1,0,2]\n",
    "print(\"\\nTest 1: p = [1,0,2]\")\n",
    "print(\"Expected:\", [2,0])\n",
    "print(\"Actual:\", my_poly_der_mat([1,0,2]))\n",
    "\n",
    "# Test 2: p = [1, 2, 3, 4]\n",
    "print(\"\\nTest 2: p = [1, 2, 3, 4]\")\n",
    "print(\"Expected:\", [3, 4, 3])\n",
    "print(\"Actual:\", my_poly_der_mat([1, 2, 3, 4]))\n",
    "\n",
    "# Test 3: p = [99, 534, 2345, 5467, 23456]\n",
    "print(\"\\nTest 3: p = [99, 534, 2345, 5467, 23456]\")\n",
    "print(\"Expected:\", [396, 1602, 4690, 5467])\n",
    "print(\"Actual:\", my_poly_der_mat([99, 534, 2345, 5467, 23456]))"
   ],
   "metadata": {
    "collapsed": false,
    "pycharm": {
     "name": "#%%\n"
    }
   }
  },
  {
   "cell_type": "markdown",
   "source": [],
   "metadata": {
    "collapsed": false
   }
  },
  {
   "cell_type": "markdown",
   "source": [
    "7. Consider the following network consisting of two power supply stations denoted by S1 and S2 and five power recipient nodes denoted by N1 to N5. The nodes are connected by power lines, which are denoted by arrows, and power can flow between nodes along these lines in both directions.\n",
    "Let di be a positive scalar denoting the power demands for node i, and assume that this demand must be met exactly. The capacity of the power supply stations is denoted by S. Power supply stations must run at their capacity. For each arrow, let fj be the power flow along that arrow. Negative flow implies that power is running in the opposite direction of the arrow.\n",
    "Write a function my_flow_calculator(S, d), where S is a 1×2 vector representing the capacity of each power supply station, and d is a 1×5 row vector representing the demands at each node (i.e., d[0] is the demand at node 1). The output argument, f, should be a 1×7 row vector denoting the flows in the network (i.e., f[0]=f1 in the diagram). The flows contained in f should satisfy all constraints of the system, like power generation and demands. Note that there may be more than one solution to the system of equations.\n",
    "The total flow into a node must equal the total flow out of the node plus the demand; that is, for each node i,finflow=foutflow+di. You may assume that ΣSj=Σdi."
   ],
   "metadata": {
    "collapsed": false
   }
  },
  {
   "cell_type": "code",
   "execution_count": 275,
   "outputs": [],
   "source": [
    "def my_flow_calculator(S: np.array, d: np.array):\n",
    "    \"\"\"\n",
    "    Function to compute the flows in a network\n",
    "    :param S: Vector S containing the capacity of each power supply station\n",
    "    :param d: Vector d containing the demands at each node\n",
    "    :return: Vector f containing the flows in the network\n",
    "    \"\"\"\n",
    "\n",
    "    # Initialize i matrix based on given flow chart\n",
    "    i = np.array([\n",
    "        [0, 0, -1, 1, 0, -1, 0],\n",
    "        [0, 0, 0, 0, 1, 0, -1],\n",
    "        [0, 1, 0, 0, 0, 0, 0],\n",
    "        [1, -1, 1, 0, 0, 0, 0],\n",
    "        [0, 0, 0, 0, 0, 1, 1],\n",
    "        [1, 0, 0, 0, 0, 0, 0],\n",
    "        [0, 0, 0, 1, 1, 0, 0]\n",
    "    ])\n",
    "\n",
    "    # Create matrix o = vertically stacked d and S\n",
    "    o = np.concatenate((d, S), axis=1).transpose()\n",
    "\n",
    "    # Solve for f and return\n",
    "    return np.linalg.lstsq(i, o, rcond=None)[0].transpose()\n"
   ],
   "metadata": {
    "collapsed": false,
    "pycharm": {
     "name": "#%%\n"
    }
   }
  },
  {
   "cell_type": "code",
   "execution_count": 277,
   "outputs": [
    {
     "name": "stdout",
     "output_type": "stream",
     "text": [
      "Test 1: S = [10, 10], d = [4, 4, 4, 4, 4]\n",
      "Expected: [[10.0, 4.0, -2.0, 4.5, 5.5, 2.5, 1.5]]\n",
      "Actual:   [[10.   4.  -2.   4.5  5.5  2.5  1.5]]\n",
      "\n",
      "Test 2: S = [10, 10], d = [3, 4, 5, 4, 4]\n",
      "Expected: [[10.0, 5.0, -1.0, 4.5, 5.5, 2.5, 1.5]]\n",
      "Actual:   [[10.   5.  -1.   4.5  5.5  2.5  1.5]]\n"
     ]
    }
   ],
   "source": [
    "## Test cases for problem 4\n",
    "\n",
    "print(\"Test 1: S = [10, 10], d = [4, 4, 4, 4, 4]\")\n",
    "print(\"Expected:\", [[10.0, 4.0, -2.0, 4.5, 5.5, 2.5, 1.5]])\n",
    "print(\"Actual:  \", my_flow_calculator(np.array([[10, 10]]), np.array([[4, 4, 4, 4, 4]])))\n",
    "\n",
    "\n",
    "print(\"\\nTest 2: S = [10, 10], d = [3, 4, 5, 4, 4]\")\n",
    "print(\"Expected:\", [[10.0, 5.0, -1.0, 4.5, 5.5, 2.5, 1.5]])\n",
    "print(\"Actual:  \", my_flow_calculator(np.array([[10, 10]]),\n",
    "                                      np.array([[3, 4, 5, 4, 4]])))"
   ],
   "metadata": {
    "collapsed": false,
    "pycharm": {
     "name": "#%%\n"
    }
   }
  }
 ],
 "metadata": {
  "kernelspec": {
   "display_name": "Python 3",
   "language": "python",
   "name": "python3"
  },
  "language_info": {
   "codemirror_mode": {
    "name": "ipython",
    "version": 2
   },
   "file_extension": ".py",
   "mimetype": "text/x-python",
   "name": "python",
   "nbconvert_exporter": "python",
   "pygments_lexer": "ipython2",
   "version": "2.7.6"
  }
 },
 "nbformat": 4,
 "nbformat_minor": 0
}