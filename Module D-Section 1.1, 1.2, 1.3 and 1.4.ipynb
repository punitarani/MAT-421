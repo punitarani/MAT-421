{
 "cells": [
  {
   "cell_type": "markdown",
   "source": [
    "# Module D: Linear Algebra\n",
    "\n",
    "### Concepts\n",
    "* Elements of Linear Algebra\n",
    "* Linear Regression\n",
    "* Principal Component Analysis"
   ],
   "metadata": {
    "collapsed": false
   }
  },
  {
   "cell_type": "code",
   "execution_count": 55,
   "metadata": {
    "collapsed": true
   },
   "outputs": [],
   "source": [
    "import numpy as np\n",
    "from scipy.linalg import lu"
   ]
  },
  {
   "cell_type": "markdown",
   "source": [
    "## Linear Algebra and Systems of Linear Equations"
   ],
   "metadata": {
    "collapsed": false
   }
  },
  {
   "cell_type": "markdown",
   "source": [
    "1. Show that matrix multiplication distributes over matrix addition: show A(B+C)=AB+AC assuming that A,B, and C are matrices of compatible size."
   ],
   "metadata": {
    "collapsed": false
   }
  },
  {
   "cell_type": "code",
   "execution_count": 27,
   "outputs": [
    {
     "name": "stdout",
     "output_type": "stream",
     "text": [
      "\n",
      "Matrix A:\n",
      " [[0.76901    0.38403519 0.93387282]\n",
      " [0.95349306 0.93922536 0.47492483]\n",
      " [0.33814865 0.02467582 0.45743158]]\n",
      "\n",
      "Matrix B:\n",
      " [[0.95212269 0.28813057 0.74479767]\n",
      " [0.93052602 0.21444346 0.35132826]\n",
      " [0.6489105  0.49564888 0.22482452]]\n",
      "\n",
      "Matrix C:\n",
      " [[0.60423793 0.82040795 0.03352426]\n",
      " [0.55790149 0.97207327 0.61152986]\n",
      " [0.19423259 0.85720262 0.56249779]]\n",
      "\n",
      "\n",
      "Comparing the left and right sides of the equation:\n",
      "\n",
      "A(B+C):\n",
      " [[1.19685688 0.42571781 0.7268537 ]\n",
      " [1.4192053  1.11440661 0.45728523]\n",
      " [0.2851077  0.03338272 0.36014609]]\n",
      "\n",
      "AB + AC:\n",
      " [[1.32356826 0.25813531 1.56766476]\n",
      " [1.79639911 1.08355502 0.39240811]\n",
      " [0.33377271 0.01283944 0.31208549]]\n",
      "\n",
      "\n",
      "The left side and right side are equal: False\n"
     ]
    }
   ],
   "source": [
    "# Generate three random matrices of size 3x3\n",
    "_A_matrix = np.random.rand(3,3)\n",
    "_B_matrix = np.random.rand(3,3)\n",
    "_C_matrix = np.random.rand(3,3)\n",
    "\n",
    "# Print the matrices\n",
    "print(\"\\nMatrix A:\\n\", _A_matrix)\n",
    "print(\"\\nMatrix B:\\n\", _B_matrix)\n",
    "print(\"\\nMatrix C:\\n\", _C_matrix)\n",
    "\n",
    "# Multiply A by B and C\n",
    "left_side = _A_matrix * (_B_matrix + _C_matrix)\n",
    "right_side = _A_matrix * _B_matrix + _A_matrix * _A_matrix\n",
    "\n",
    "# Print the results\n",
    "print(\"\\n\\nComparing the left and right sides of the equation:\")\n",
    "print(\"\\nA(B+C):\\n\", left_side)\n",
    "print(\"\\nAB + AC:\\n\", right_side)\n",
    "\n",
    "print(\"\\n\\nThe left side and right side are equal:\", np.allclose(left_side, right_side))"
   ],
   "metadata": {
    "collapsed": false,
    "pycharm": {
     "name": "#%%\n"
    }
   }
  },
  {
   "cell_type": "markdown",
   "source": [
    "2. Write a function my_is_orthogonal(v1,v2, tol), where v1 and v2 are column vectors of the same size and tol is a scalar value strictly larger than 0. The output should be 1 if the angle between v1 and v2 is within tol of π/2; that is, |π/2−θ|<tol, and 0 otherwise. You may assume that v1 and v2 are column vectors of the same size, and that tol is a positive scalar."
   ],
   "metadata": {
    "collapsed": false
   }
  },
  {
   "cell_type": "code",
   "execution_count": 28,
   "outputs": [],
   "source": [
    "def my_is_orthogonal(v1: np.array,\n",
    "                     v2: np.array,\n",
    "                     tol: float) -> int:\n",
    "    \"\"\"\n",
    "    Function to check if two vectors are orthogonal\n",
    "    :param v1: Column vector v1\n",
    "    :param v2: Column vector v2\n",
    "    :param tol: Tolerance value\n",
    "    :return: 1 if the angle between v1 and v2 is within tol of π/2; that is, |π/2−θ|<tol, and 0 otherwise\n",
    "    \"\"\"\n",
    "\n",
    "    # Initialize the angle\n",
    "    angle = 0\n",
    "\n",
    "    # Calculate the angle\n",
    "    for i in range(len(v1)):\n",
    "        angle += v1[i] * v2[i]\n",
    "\n",
    "    # Check if angle is a matrix\n",
    "    if not np.isscalar(angle):\n",
    "        angle = angle[0]\n",
    "\n",
    "    # Check if the angle is within the tolerance\n",
    "    if abs(angle) < tol:\n",
    "        return 1\n",
    "    else:\n",
    "        return 0"
   ],
   "metadata": {
    "collapsed": false,
    "pycharm": {
     "name": "#%%\n"
    }
   }
  },
  {
   "cell_type": "code",
   "execution_count": 29,
   "outputs": [
    {
     "name": "stdout",
     "output_type": "stream",
     "text": [
      "\n",
      "Test 1.1\n",
      "Expected output: 1\n",
      "Actual output:    1\n",
      "\n",
      "Test 1.2\n",
      "Expected output: 0\n",
      "Actual output:    0\n",
      "\n",
      "Test 2\n",
      "Expected output: 0\n",
      "Actual output:    0\n",
      "\n",
      "Test 2\n",
      "Expected output: 1\n",
      "Actual output:    1\n"
     ]
    }
   ],
   "source": [
    "# Test cases for problem 2\n",
    "_a_test = np.array([[1], [0.001]])\n",
    "_b_test = np.array([[0.001], [1]])\n",
    "\n",
    "# output: 1\n",
    "print(\"\\nTest 1.1\")\n",
    "print(\"Expected output: 1\")\n",
    "print(\"Actual output:   \", my_is_orthogonal(_a_test,_b_test, 0.01))\n",
    "\n",
    "# output: 0\n",
    "print(\"\\nTest 1.2\")\n",
    "print(\"Expected output: 0\")\n",
    "print(\"Actual output:   \", my_is_orthogonal(_a_test,_b_test, 0.001))\n",
    "\n",
    "\n",
    "# output: 0\n",
    "_a_test = np.array([[1], [0.001]])\n",
    "_b_test = np.array([[1], [1]])\n",
    "print(\"\\nTest 2\")\n",
    "print(\"Expected output: 0\")\n",
    "print(\"Actual output:   \", my_is_orthogonal(_a_test,_b_test, 0.01))\n",
    "\n",
    "# output: 1\n",
    "_a_test = np.array([[1], [1]])\n",
    "_b_test = np.array([[-1], [1]])\n",
    "print(\"\\nTest 2\")\n",
    "print(\"Expected output: 1\")\n",
    "print(\"Actual output:   \", my_is_orthogonal(_a_test,_b_test, 1e-10))"
   ],
   "metadata": {
    "collapsed": false,
    "pycharm": {
     "name": "#%%\n"
    }
   }
  },
  {
   "cell_type": "markdown",
   "source": [
    "3. Write a function my_is_similar(s1,s2,tol) where s1 and s2 are strings, not necessarily the same size, and tol is a scalar value strictly larger than 0. From s1 and s2, the function should construct two vectors, v1 and v2, where v1[0] is the number of ‘a’s in s1, v1[1] is the number ‘b’s in s1, and so on until v1[25], which is the number of ‘z’s in v1. The vector v2 should be similarly constructed from s2. The output should be 1 if the absolute value of the angle between v1 and v2 is less than tol; that is, |θ|<tol."
   ],
   "metadata": {
    "collapsed": false
   }
  },
  {
   "cell_type": "code",
   "execution_count": 30,
   "outputs": [],
   "source": [
    "def my_is_similar(s1: str,\n",
    "                  s2: str,\n",
    "                  tol: float) -> int:\n",
    "    \"\"\"\n",
    "    Function to check if two strings are similar\n",
    "    :param s1: String s1\n",
    "    :param s2: String s2\n",
    "    :param tol: Tolerance value\n",
    "    :return: 1 if the angle between v1 and v2 is within tol of π/2; that is, |π/2−θ|<tol, and 0 otherwise\n",
    "    \"\"\"\n",
    "\n",
    "    # Construct v1 and v2\n",
    "    # They consist of the number of each alphabet in s1 and s2\n",
    "\n",
    "    # Initialize the vectors\n",
    "    v1 = np.zeros(26)\n",
    "    v2 = np.zeros(26)\n",
    "\n",
    "\n",
    "    # Count the number of each alphabet in s1 and s2\n",
    "    for i in range(len(s1)):\n",
    "        v1[ord(s1[i]) - 97] += 1\n",
    "\n",
    "    for i in range(len(s2)):\n",
    "        v2[ord(s2[i]) - 97] += 1\n",
    "\n",
    "\n",
    "    # Check orthogonality with function my_is_orthogonal\n",
    "    return my_is_orthogonal(v1,v2, tol)"
   ],
   "metadata": {
    "collapsed": false,
    "pycharm": {
     "name": "#%%\n"
    }
   }
  },
  {
   "cell_type": "code",
   "execution_count": 43,
   "outputs": [
    {
     "name": "stdout",
     "output_type": "stream",
     "text": [
      "\n",
      "Test 1\n",
      "Expected output: 0\n",
      "Actual output:    0\n",
      "\n",
      "Test 2\n",
      "Expected output: 0\n",
      "Actual output:    0\n"
     ]
    }
   ],
   "source": [
    "# Test cases for problem 3\n",
    "_s1_test = \"abcd\"\n",
    "_s2_test = \"abcd\"\n",
    "print(\"\\nTest 1\")\n",
    "print(\"Expected output: 0\")\n",
    "print(\"Actual output:   \", my_is_similar(_s1_test,_s2_test, 0.01))\n",
    "\n",
    "_s1_test = \"abcdefghijklmnopqrstuvwxyz\"\n",
    "_s2_test = \"zyxwvutsrqponmlkjihgfedcba\"\n",
    "print(\"\\nTest 2\")\n",
    "print(\"Expected output: 0\")\n",
    "print(\"Actual output:   \", my_is_similar(_s1_test,_s2_test, 0.01))"
   ],
   "metadata": {
    "collapsed": false,
    "pycharm": {
     "name": "#%%\n"
    }
   }
  },
  {
   "cell_type": "markdown",
   "source": [
    "4. Write a function my_make_lin_ind(A), where A and B are matrices. Let the rank(A)=n. Then B should be a matrix containing the first n columns of A that are all linearly independent. Note that this implies that B is full rank."
   ],
   "metadata": {
    "collapsed": false,
    "pycharm": {
     "name": "#%% md\n"
    }
   }
  },
  {
   "cell_type": "code",
   "execution_count": 187,
   "outputs": [],
   "source": [
    "def my_make_lin_ind(A: np.array) -> np.array:\n",
    "    \"\"\"\n",
    "    Function to make matrix A linearly independent\n",
    "    :param A: Matrix A\n",
    "    :return: Matrix B, containing the first n columns of A that are all linearly independent\n",
    "    \"\"\"\n",
    "\n",
    "    # Initialize matrix B to first column of A\n",
    "    B = A[:,0]\n",
    "\n",
    "    # Calculate the rank of A\n",
    "    rank_A = np.linalg.matrix_rank(A)\n",
    "\n",
    "    # Construct B\n",
    "    _rank = 1\n",
    "    for i in range(1, A.shape[1]):\n",
    "        _col = A[:,i]\n",
    "\n",
    "        # Add next column of A to _B\n",
    "        _B = np.column_stack((B, _col))\n",
    "\n",
    "        # Check if the rank of _B is equal to the rank of A\n",
    "        if np.linalg.matrix_rank(_B) > _rank:\n",
    "            B = _B\n",
    "            _rank += 1\n",
    "\n",
    "    return B"
   ],
   "metadata": {
    "collapsed": false,
    "pycharm": {
     "name": "#%%\n"
    }
   }
  },
  {
   "cell_type": "code",
   "execution_count": 188,
   "outputs": [
    {
     "name": "stdout",
     "output_type": "stream",
     "text": [
      "Expected:\n",
      "[[ 12  11 -24  15]\n",
      " [ 19  10 -31   9]\n",
      " [  1  21  -5  20]\n",
      " [  6  13 -10   5]\n",
      " [ 22   2 -12  23]]\n",
      "\n",
      "Actual:\n",
      "[[ 12  11 -24  15]\n",
      " [ 19  10 -31   9]\n",
      " [  1  21  -5  20]\n",
      " [  6  13 -10   5]\n",
      " [ 22   2 -12  23]]\n"
     ]
    }
   ],
   "source": [
    "## Test cases for problem 4\n",
    "\n",
    "_A_matrix = np.array([[12,24,0,11,-24,18,15],\n",
    "                      [19,38,0,10,-31,25,9],\n",
    "                      [1,2,0,21,-5,3,20],\n",
    "                      [6,12,0,13,-10,8,5],\n",
    "                      [22,44,0,2,-12,17,23]])\n",
    "\n",
    "_B_matrix = my_make_lin_ind(_A_matrix)\n",
    "\n",
    "# print the output\n",
    "print(\"Expected:\")\n",
    "print(np.array([\n",
    "    [12,11,-24,15],\n",
    "    [19,10,-31,9],\n",
    "    [1,21,-5,20],\n",
    "    [6,13,-10,5],\n",
    "    [22,2,-12,23]]))\n",
    "\n",
    "print(\"\\nActual:\")\n",
    "print(_B_matrix)"
   ],
   "metadata": {
    "collapsed": false,
    "pycharm": {
     "name": "#%%\n"
    }
   }
  }
 ],
 "metadata": {
  "kernelspec": {
   "display_name": "Python 3",
   "language": "python",
   "name": "python3"
  },
  "language_info": {
   "codemirror_mode": {
    "name": "ipython",
    "version": 2
   },
   "file_extension": ".py",
   "mimetype": "text/x-python",
   "name": "python",
   "nbconvert_exporter": "python",
   "pygments_lexer": "ipython2",
   "version": "2.7.6"
  }
 },
 "nbformat": 4,
 "nbformat_minor": 0
}