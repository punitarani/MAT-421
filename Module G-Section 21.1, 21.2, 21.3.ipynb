{
 "cells": [
  {
   "cell_type": "markdown",
   "metadata": {},
   "source": [
    "# Module G: Section 21.1, 21.2, 21.3"
   ]
  },
  {
   "cell_type": "code",
   "execution_count": 1,
   "metadata": {},
   "outputs": [],
   "source": [
    "import numpy as np\n",
    "import scipy.integrate as integrate\n",
    "import matplotlib.pyplot as plt"
   ]
  },
  {
   "cell_type": "markdown",
   "metadata": {},
   "source": [
    "1. Write a function my_int_calc(f,f0,a,b,N,option), where f is a function object, a and b are scalars such that a < b, N is a positive integer, and option is the string ‘rect’, ‘trap’, or ‘simp’. Let x be an array starting at a, ending at b, containing N evenly spaced elements. The output argument, I, should be an approximation to the integral of f(x), with initial condition f0, computed according to the input argument, option."
   ]
  },
  {
   "cell_type": "code",
   "execution_count": 2,
   "metadata": {
    "pycharm": {
     "name": "#%%\n"
    }
   },
   "outputs": [],
   "source": [
    "def my_int_calc(f: callable, f0: float, a: float, b: float, N: int, option: str) -> float:\n",
    "    \"\"\"\n",
    "    Integrate a function f(x) from a to b using N points.\n",
    "    Options: 'rect', 'trap' or 'simp'\n",
    "\n",
    "    :param f: Function object\n",
    "    :param f0: Initial condition\n",
    "    :param a: Lower bound\n",
    "    :param b: Upper bound\n",
    "    :param N: Number of points\n",
    "    :param option: Integration method (rect, trap or simp)\n",
    "    :return: Approximation of the integral\n",
    "    \"\"\"\n",
    "\n",
    "    # Create an array of N evenly spaced points\n",
    "    x = np.linspace(a, b, N)\n",
    "\n",
    "    # Calculate the width\n",
    "    h = (b - a) / (N - 1)\n",
    "\n",
    "    # Calculate the y values for each x value\n",
    "    y = f(x)\n",
    "\n",
    "    match option:\n",
    "        case 'rect':\n",
    "            for i in range(1, N):\n",
    "                f0 += y[i]\n",
    "\n",
    "            return f0 * h\n",
    "\n",
    "        case 'trap':\n",
    "            for i in range(1, N-1):\n",
    "                f0 += 2 * y[i]\n",
    "\n",
    "            return (f0 + y[0] + y[N-1]) * h / 2\n",
    "\n",
    "        case 'simp':\n",
    "            f0 += (h/3) * (y[0] + 2*sum(y[:N-2:2]) + 4*sum(y[1:N-1:2]) + y[N-1])\n",
    "            return f0\n",
    "\n",
    "    return 0"
   ]
  },
  {
   "cell_type": "code",
   "execution_count": 3,
   "metadata": {
    "pycharm": {
     "name": "#%%\n"
    }
   },
   "outputs": [
    {
     "name": "stdout",
     "output_type": "stream",
     "text": [
      "Rectangle method:  285.0\n",
      "Trapezoid method:  244.5\n",
      "Simpson method  :  176.33333333333331\n",
      "Actual          :  243.0\n"
     ]
    }
   ],
   "source": [
    "# Test my_int_calc\n",
    "\n",
    "_f_test = lambda x: x**2\n",
    "_f0_test = 0\n",
    "_a_test = 0\n",
    "_b_test = 9\n",
    "_N_test = 10\n",
    "\n",
    "_f_int = my_int_calc(_f_test, _f0_test, _a_test, _b_test, _N_test, 'rect')\n",
    "print(\"Rectangle method: \", _f_int)\n",
    "\n",
    "_f_int = my_int_calc(_f_test, _f0_test, _a_test, _b_test, _N_test, 'trap')\n",
    "print(\"Trapezoid method: \", _f_int)\n",
    "\n",
    "_f_int = my_int_calc(_f_test, _f0_test, _a_test, _b_test, _N_test, 'simp')\n",
    "print(\"Simpson method  : \", _f_int)\n",
    "\n",
    "_f_int = integrate.quad(_f_test, _a_test, _b_test)\n",
    "print(\"Actual          : \", _f_int[0])\n",
    "\n"
   ]
  },
  {
   "cell_type": "code",
   "execution_count": 4,
   "metadata": {
    "pycharm": {
     "name": "#%%\n"
    }
   },
   "outputs": [
    {
     "name": "stdout",
     "output_type": "stream",
     "text": [
      "Rectangle method:  84.75\n",
      "Trapezoid method:  86.625\n",
      "Simpson method  :  78.08333333333333\n",
      "Actual          :  87.5\n"
     ]
    },
    {
     "data": {
      "image/png": "[encoded data removed]",
      "text/plain": [
       "<Figure size 432x288 with 1 Axes>"
      ]
     },
     "metadata": {
      "needs_background": "light"
     },
     "output_type": "display_data"
    }
   ],
   "source": [
    "# More tests\n",
    "\n",
    "_f_test = lambda x: 0.25*x**4 - 3*x**3 + 9*x**2 - 2*x + 10\n",
    "_f0_test = 0\n",
    "_a_test = 0\n",
    "_b_test = 5\n",
    "_N_test = 6\n",
    "\n",
    "_f_int = my_int_calc(_f_test, _f0_test, _a_test, _b_test, _N_test, 'rect')\n",
    "print(\"Rectangle method: \", _f_int)\n",
    "\n",
    "_f_int = my_int_calc(_f_test, _f0_test, _a_test, _b_test, _N_test, 'trap')\n",
    "print(\"Trapezoid method: \", _f_int)\n",
    "\n",
    "_f_int = my_int_calc(_f_test, _f0_test, _a_test, _b_test, _N_test, 'simp')\n",
    "print(\"Simpson method  : \", _f_int)\n",
    "\n",
    "_f_int = integrate.quad(_f_test, _a_test, _b_test)\n",
    "print(\"Actual          : \", _f_int[0])\n",
    "\n",
    "# Plot the function\n",
    "x = np.linspace(_a_test, _b_test, 1000)\n",
    "y = _f_test(x)\n",
    "plt.plot(x, y)\n",
    "plt.title(\"Function: f(x) = 0.25x^4 - 3x^3 + 9x^2 - 2x + 10\")\n",
    "plt.show()\n"
   ]
  },
  {
   "cell_type": "markdown",
   "metadata": {
    "pycharm": {
     "name": "#%% md\n"
    }
   },
   "source": []
  }
 ],
 "metadata": {
  "kernelspec": {
   "display_name": "Python 3 (ipykernel)",
   "language": "python",
   "name": "python3"
  },
  "language_info": {
   "codemirror_mode": {
    "name": "ipython",
    "version": 3
   },
   "file_extension": ".py",
   "mimetype": "text/x-python",
   "name": "python",
   "nbconvert_exporter": "python",
   "pygments_lexer": "ipython3",
   "version": "3.10.0"
  }
 },
 "nbformat": 4,
 "nbformat_minor": 1
}