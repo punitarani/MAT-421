{
 "cells": [
  {
   "cell_type": "markdown",
   "metadata": {},
   "source": [
    "# Module C-Section 19.1 - 19.5"
   ]
  },
  {
   "cell_type": "code",
   "execution_count": 1,
   "metadata": {
    "pycharm": {
     "name": "#%%\n"
    }
   },
   "outputs": [],
   "source": [
    "# Imports\n",
    "from math import log10\n",
    "from time import time\n",
    "\n",
    "import numpy as np\n",
    "from matplotlib import pyplot as plt"
   ]
  },
  {
   "cell_type": "markdown",
   "metadata": {},
   "source": [
    "## Bisection Method"
   ]
  },
  {
   "cell_type": "code",
   "execution_count": 2,
   "metadata": {
    "pycharm": {
     "name": "#%%\n"
    }
   },
   "outputs": [],
   "source": [
    "# Bisection Method (bm)\n",
    "def bm_root(x: float, n: int, tol: float = 0.1, max_iter: int = 10**8) -> float:\n",
    "    \"\"\"\n",
    "    Bisection method to find the nth root of x\n",
    "    :param x: Value to find the nth root of\n",
    "    :param n: nth root to find\n",
    "    :param tol: tolerance\n",
    "    :param max_iter: maximum number of iterations\n",
    "    :return: nth root of x\n",
    "    \"\"\"\n",
    "\n",
    "    # Ensure that x and tol are strictly positive scalars\n",
    "    if x <= 0:\n",
    "        print(f\"Converting x to a positive number: {x} -> {abs(x)}\")\n",
    "        x = abs(x)\n",
    "\n",
    "    if tol <= 0:\n",
    "        print(f\"Converting tol to a positive number: {tol} -> {abs(tol)}\")\n",
    "        tol = abs(tol)\n",
    "\n",
    "    # Ensure that n is an integer strictly greater than 1\n",
    "    if not isinstance(n, int) or n <= 1:\n",
    "        raise ValueError(\"n must be an integer greater than 1\")\n",
    "\n",
    "    # f(y) = y^N - x\n",
    "    f = lambda y: y ** n - x\n",
    "\n",
    "    # Starting values\n",
    "    a = 0\n",
    "    b = x\n",
    "    r = x/2\n",
    "\n",
    "    while max_iter > 0:\n",
    "        r = (a + b) / 2\n",
    "\n",
    "        if abs(f(r)) < tol:\n",
    "            break\n",
    "\n",
    "        elif np.sign(f(a)) != np.sign(f(r)):\n",
    "            b = r\n",
    "\n",
    "        elif np.sign(f(r)) != np.sign(f(b)):\n",
    "            a = r\n",
    "\n",
    "        max_iter -= 1\n",
    "\n",
    "    if max_iter == 0:\n",
    "        print(\"Maximum number of iterations reached\")\n",
    "\n",
    "    return r\n"
   ]
  },
  {
   "cell_type": "code",
   "execution_count": 3,
   "metadata": {
    "pycharm": {
     "name": "#%%\n"
    }
   },
   "outputs": [
    {
     "name": "stdout",
     "output_type": "stream",
     "text": [
      "x = 1, n = 2, tol = 0.001\n",
      "Bisection Method:   1.0\n",
      "Actual:             1.0\n",
      "Error:              0.0\n",
      "\n",
      "\n",
      "x = 4, n = 2, tol = 0.001\n",
      "Bisection Method:   2.0\n",
      "Actual:             2.0\n",
      "Error:              0.0\n",
      "\n",
      "\n",
      "x = 81, n = 4, tol = 0.001\n",
      "Bisection Method:   3.0\n",
      "Actual:             3.0\n",
      "Error:              0.0\n",
      "\n",
      "\n",
      "x = 286718338524635465625, n = 5, tol = 0.001\n",
      "Bisection Method:   12345.0\n",
      "Actual:             12345.0\n",
      "Error:              0.0\n",
      "\n",
      "\n",
      "x = 877347265250300669935309761849, n = 10, tol = 0.001\n",
      "Bisection Method:   987.0\n",
      "Actual:             987.0\n",
      "Error:              0.0\n",
      "\n",
      "\n",
      "Average Time: 0.46068903987379717 ms\n",
      "Standard Deviation: 0.4996069907882947 ms\n"
     ]
    },
    {
     "data": {
      "text/plain": "<Figure size 432x288 with 1 Axes>",
      "image/png": "[encoded data removed]"
     },
     "metadata": {
      "needs_background": "light"
     },
     "output_type": "display_data"
    }
   ],
   "source": [
    "# Function to test bm_root\n",
    "def test_bm(x: float, n: int, tol: float) -> None:\n",
    "    \"\"\"\n",
    "    Test the Bisection Method\n",
    "    :param x: Value to find the nth root of\n",
    "    :param n: nth root to find\n",
    "    :param tol: tolerance\n",
    "    :return: True if the nth root of x is within tol of x, False otherwise\n",
    "    \"\"\"\n",
    "    print(f\"x = {x}, n = {n}, tol = {tol}\")\n",
    "\n",
    "    # Find the nth root of x using the Bisection method\n",
    "    n_root = bm_root(x=x, n=n, tol=tol, max_iter=10**8)\n",
    "\n",
    "    # Round to precision based on tolerance\n",
    "    round_to = int(abs(log10(tol)))\n",
    "    n_root = round(n_root, round_to)\n",
    "\n",
    "    # Print the results\n",
    "    print(f\"Bisection Method:   {n_root}\")\n",
    "    print(f\"Actual:             {round(x**(1/n), round_to)}\")\n",
    "    print(f\"Error:              {abs(n_root**n - x)}\")\n",
    "    print(f\"\\n\")\n",
    "\n",
    "bm_tol = 0.001\n",
    "\n",
    "# Test 1\n",
    "test_bm(x=1, n=2, tol=bm_tol)\n",
    "\n",
    "# Test 2\n",
    "test_bm(x=4, n=2, tol=bm_tol)\n",
    "\n",
    "# Test 3\n",
    "test_bm(x=81, n=4, tol=bm_tol)\n",
    "\n",
    "# Test 4\n",
    "_n = 5\n",
    "_x = 12345 ** _n\n",
    "test_bm(x=_x, n=5, tol=bm_tol)\n",
    "\n",
    "# Test 5\n",
    "_n = 10\n",
    "_x = 987 ** _n\n",
    "test_bm(x=_x, n=_n, tol=bm_tol)\n",
    "\n",
    "# Test Time\n",
    "test_len = 10**5\n",
    "_time = []\n",
    "for _x in range(1, test_len):\n",
    "    start = time()\n",
    "\n",
    "    for _n in range(2, 5):\n",
    "        bm_root(x=_x, n=_n, tol=0.01, max_iter=10**8)\n",
    "\n",
    "    end = time()\n",
    "    _time.append((end - start)*1000)\n",
    "\n",
    "# Add plot to fig\n",
    "fig = plt.scatter(range(1, test_len), _time)\n",
    "\n",
    "\n",
    "# Add labels\n",
    "plt.suptitle(\"Bisection Method\")\n",
    "plt.title(\"Time to find the 2nd - 6th roots of x\")\n",
    "plt.xlabel(\"number (x: 1 - 10^5)\")\n",
    "plt.ylabel(\"time (ms)\")\n",
    "\n",
    "# Print Stats\n",
    "print(f\"Average Time: {np.mean(_time)} ms\")\n",
    "print(f\"Standard Deviation: {np.std(_time)} ms\")\n"
   ]
  },
  {
   "cell_type": "markdown",
   "metadata": {},
   "source": [
    "## Newton Raphson Method"
   ]
  },
  {
   "cell_type": "code",
   "execution_count": 4,
   "metadata": {
    "pycharm": {
     "name": "#%%\n"
    }
   },
   "outputs": [],
   "source": [
    "# Newton Raphson Method (nrm_root)\n",
    "def nrm_root(x: float, n: int, tol: float = 0.00001) -> float:\n",
    "    \"\"\"\n",
    "    Newton Raphson method to find the nth root of x\n",
    "    :param x: Value to find the nth root of\n",
    "    :param n: nth root to find\n",
    "    :param tol: tolerance\n",
    "    :return: nth root of x\n",
    "    \"\"\"\n",
    "\n",
    "    # Ensure that x and tol are strictly positive scalars\n",
    "    if x <= 0:\n",
    "        print(f\"Converting x to a positive number: {x} -> {abs(x)}\")\n",
    "        x = abs(x)\n",
    "\n",
    "    if tol <= 0:\n",
    "        print(f\"Converting tol to a positive number: {tol} -> {abs(tol)}\")\n",
    "        tol = abs(tol)\n",
    "\n",
    "    # Ensure that n is an integer strictly greater than 1\n",
    "    if not isinstance(n, int) or n <= 1:\n",
    "        raise ValueError(\"n must be an integer greater than 1\")\n",
    "\n",
    "    # f(y) = y^N - x\n",
    "    f = lambda y: y ** n - x\n",
    "\n",
    "    # f'(y) = Ny^(N-1)\n",
    "    f_prime = lambda y: n * y ** (n - 1)\n",
    "\n",
    "    # Initialize r\n",
    "    r = x\n",
    "\n",
    "    # Newton Raphson method to find the nth root of x\n",
    "    while abs(f(r)) > tol:\n",
    "        r = r - f(r)/f_prime(r)\n",
    "\n",
    "    # Return\n",
    "    return r"
   ]
  },
  {
   "cell_type": "code",
   "execution_count": 5,
   "metadata": {
    "pycharm": {
     "name": "#%%\n"
    }
   },
   "outputs": [
    {
     "name": "stdout",
     "output_type": "stream",
     "text": [
      "x = 1, n = 2, tol = 1e-05\n",
      "Newton Raphson: 1\n",
      "Actual:         1.0\n",
      "Error:          0\n",
      "\n",
      "\n",
      "x = 4, n = 2, tol = 1e-05\n",
      "Newton Raphson: 2.0\n",
      "Actual:         2.0\n",
      "Error:          0.0\n",
      "\n",
      "\n",
      "x = 81, n = 4, tol = 1e-05\n",
      "Newton Raphson: 3.0\n",
      "Actual:         3.0\n",
      "Error:          0.0\n",
      "\n",
      "\n",
      "x = 286718338524635465625, n = 5, tol = 1e-05\n",
      "Newton Raphson: 12345.0\n",
      "Actual:         12345.0\n",
      "Error:          0.0\n",
      "\n",
      "\n",
      "x = 877347265250300669935309761849, n = 10, tol = 1e-05\n",
      "Newton Raphson: 987.0\n",
      "Actual:         987.0\n",
      "Error:          0.0\n",
      "\n",
      "\n",
      "Average Time: 0.06934139690136526 ms\n",
      "Standard Deviation: 0.2540284501516291 ms\n"
     ]
    },
    {
     "data": {
      "text/plain": "<Figure size 432x288 with 1 Axes>",
      "image/png": "[encoded data removed]"
     },
     "metadata": {
      "needs_background": "light"
     },
     "output_type": "display_data"
    }
   ],
   "source": [
    "# Newton Raphson Method (nrm_root) Tests\n",
    "nrm_tol = 0.00001\n",
    "\n",
    "# Function to test nrm_root\n",
    "def test_nrm(x: float, n: int, tol: float) -> None:\n",
    "    \"\"\"\n",
    "    Test the Newton Raphson method\n",
    "    :param x: Value to find the nth root of\n",
    "    :param n: nth root to find\n",
    "    :param tol: tolerance\n",
    "    :return: True if the nth root of x is within tol of x, False otherwise\n",
    "    \"\"\"\n",
    "    print(f\"x = {x}, n = {n}, tol = {tol}\")\n",
    "\n",
    "    # Find the nth root of x using the Newton Raphson method\n",
    "    n_root = nrm_root(x=x, n=n, tol=tol)\n",
    "\n",
    "    # Round to precision based on tolerance\n",
    "    round_to = int(abs(log10(tol)))\n",
    "    n_root = round(n_root, round_to)\n",
    "\n",
    "    # Print the results\n",
    "    print(f\"Newton Raphson: {n_root}\")\n",
    "    print(f\"Actual:         {round(x**(1/n), round_to)}\")\n",
    "    print(f\"Error:          {abs(n_root**n - x)}\")\n",
    "    print(f\"\\n\")\n",
    "\n",
    "# Test 1\n",
    "test_nrm(x=1, n=2, tol=nrm_tol)\n",
    "\n",
    "# Test 2\n",
    "test_nrm(x=4, n=2, tol=nrm_tol)\n",
    "\n",
    "# Test 3\n",
    "test_nrm(x=81, n=4, tol=nrm_tol)\n",
    "\n",
    "# Test 4\n",
    "_n = 5\n",
    "_x = 12345 ** _n\n",
    "test_nrm(x=_x, n=5, tol=nrm_tol)\n",
    "\n",
    "# Test 5\n",
    "_n = 10\n",
    "_x = 987 ** _n\n",
    "test_nrm(x=_x, n=_n, tol=nrm_tol)\n",
    "\n",
    "# Test Time\n",
    "test_len = 10**5\n",
    "_time = []\n",
    "for _x in range(1, test_len):\n",
    "    start = time()\n",
    "\n",
    "    for _n in range(2, 5):\n",
    "        nrm_root(x=_x, n=_n, tol=0.01)\n",
    "\n",
    "    end = time()\n",
    "    _time.append((end - start)*1000)\n",
    "\n",
    "# Add plot to fig\n",
    "fig = plt.scatter(range(1, test_len), _time)\n",
    "\n",
    "# Add labels\n",
    "plt.suptitle(\"Newton Raphson Method\")\n",
    "plt.title(\"Time to find the 2nd - 6th roots of x\")\n",
    "plt.xlabel(\"number (x: 1 - 10^5)\")\n",
    "plt.ylabel(\"time (ms)\")\n",
    "\n",
    "# Print Stats\n",
    "print(f\"Average Time: {np.mean(_time)} ms\")\n",
    "print(f\"Standard Deviation: {np.std(_time)} ms\")"
   ]
  },
  {
   "cell_type": "markdown",
   "source": [
    "After building an algorithm to find the n-th root of x with both the *Bisection* and *Newton-Raphson* methods, we can notice that the **Newton Raphson** method is significantly faster, accurate, and in general better than the **Bisection** method.\n",
    "In terms of time, the **Newton Raphson** method is faster than the **Bisection** method by a factor of **6.5**. The average time for the **Newton Raphson** method is **0.071** milliseconds, while the average time for the **Bisection** method is **0.462** milliseconds. Furthermore, the standard deviation for the **Newton Raphson** method is **0.257** milliseconds, while the standard deviation for the **Bisection** method is **0.500** milliseconds showing that the newton raphson method takes consistently the same amount of time. This is a significant improvement over the bisection method.\n",
    "Overall, the **Newton Raphson** method offers a combination of speed and accuracy that is better than the **Bisection** method."
   ],
   "metadata": {
    "collapsed": false,
    "pycharm": {
     "name": "#%% md\n"
    }
   }
  },
  {
   "cell_type": "code",
   "execution_count": 6,
   "outputs": [
    {
     "name": "stdout",
     "output_type": "stream",
     "text": [
      "Average Time: 0.007830257040210783 ms\n",
      "Standard Deviation: 0.0881181677749343 ms\n"
     ]
    },
    {
     "data": {
      "text/plain": "<Figure size 432x288 with 1 Axes>",
      "image/png": "[encoded data removed]"
     },
     "metadata": {
      "needs_background": "light"
     },
     "output_type": "display_data"
    }
   ],
   "source": [
    "# Numpy's built-in nth root function test\n",
    "test_len = 10**5\n",
    "_time = []\n",
    "for _x in range(1, test_len):\n",
    "    start = time()\n",
    "\n",
    "    for _n in range(2, 5):\n",
    "        np.power(_x, 1/_n)\n",
    "\n",
    "    end = time()\n",
    "    _time.append((end - start)*1000)\n",
    "\n",
    "# Add plot to fig\n",
    "fig = plt.scatter(range(1, test_len), _time)\n",
    "\n",
    "# Add labels\n",
    "plt.suptitle(\"np.power Method\")\n",
    "plt.title(\"Time to find the 2nd - 6th roots of x\")\n",
    "plt.xlabel(\"number (x: 1 - 10^5)\")\n",
    "plt.ylabel(\"time (ms)\")\n",
    "\n",
    "# Print Stats\n",
    "print(f\"Average Time: {np.mean(_time)} ms\")\n",
    "print(f\"Standard Deviation: {np.std(_time)} ms\")"
   ],
   "metadata": {
    "collapsed": false,
    "pycharm": {
     "name": "#%%\n"
    }
   }
  },
  {
   "cell_type": "markdown",
   "source": [
    "However, comparing the **Newton Raphson** method to numpy's built-in nth root function, we can see that the  numpy's built-in nth root function is significantly faster, and the standard deviation is significantly lower. The average time for the  numpy's built-in nth root function is **0.0086** milliseconds, while the average time for the **Newton Raphson** method is **0.071** milliseconds. Furthermore, the standard deviation for the built-in Python nth root function is **0.0927** milliseconds, while the standard deviation for the **Newton Raphson** method is **0.257** milliseconds showing that the  numpy's built-in nth root function takes consistently lesser amount of time than the newton raphson method. In conclusion, the numpy's built-in nth root function is faster by a factor of **8.25**."
   ],
   "metadata": {
    "collapsed": false,
    "pycharm": {
     "name": "#%% md\n"
    }
   }
  },
  {
   "cell_type": "code",
   "execution_count": 7,
   "outputs": [
    {
     "name": "stdout",
     "output_type": "stream",
     "text": [
      "Average Time: 0.001168524983284501 ms\n",
      "Standard Deviation: 0.034144989332976765 ms\n"
     ]
    },
    {
     "data": {
      "text/plain": "<Figure size 432x288 with 1 Axes>",
      "image/png": "[encoded data removed]"
     },
     "metadata": {
      "needs_background": "light"
     },
     "output_type": "display_data"
    }
   ],
   "source": [
    "test_len = 10**5\n",
    "_time = []\n",
    "for _x in range(1, test_len):\n",
    "    start = time()\n",
    "\n",
    "    for _n in range(2, 5):\n",
    "        _x**(1/_n)\n",
    "\n",
    "    end = time()\n",
    "    _time.append((end - start)*1000)\n",
    "\n",
    "# Add plot to fig\n",
    "fig = plt.scatter(range(1, test_len), _time)\n",
    "\n",
    "# Add labels\n",
    "plt.suptitle(\"Python's built-in power Method\")\n",
    "plt.title(\"Time to find the 2nd - 6th roots of x\")\n",
    "plt.xlabel(\"number (x: 1 - 10^5)\")\n",
    "plt.ylabel(\"time (ms)\")\n",
    "\n",
    "# Print Stats\n",
    "print(f\"Average Time: {np.mean(_time)} ms\")\n",
    "print(f\"Standard Deviation: {np.std(_time)} ms\")"
   ],
   "metadata": {
    "collapsed": false,
    "pycharm": {
     "name": "#%%\n"
    }
   }
  },
  {
   "cell_type": "markdown",
   "source": [
    "Lastly, finding the n-th root with python's built-in function is way faster than the numpy's function. In fact, the built-in function is faster by a factor of **7.2**. Furthermore, the accuracy of th built-in and numpy's functions are more precise than our algorithms. Regardless, the algorithms provide a basic foundational introduction to root finding algorithms.\n",
    "\n",
    "**Summary of test results:**\n",
    "* Bisection Method:\n",
    "    * Average Time: 0.462 ms\n",
    "    * Standard Deviation: 0.500 ms\n",
    "\n",
    "* Newton Raphson Method:\n",
    "    * Average Time: 0.071 ms\n",
    "    * Standard Deviation: 0.257 ms\n",
    "\n",
    "* Numpy:\n",
    "    * Average Time: 0.0086 ms\n",
    "    * Standard Deviation: 0.0927 ms\n",
    "\n",
    "* Python's Built-in Function:\n",
    "    * Average Time: 0.0012 ms\n",
    "    * Standard Deviation: 0.035 ms"
   ],
   "metadata": {
    "collapsed": false,
    "pycharm": {
     "name": "#%% md\n"
    }
   }
  }
 ],
 "metadata": {
  "kernelspec": {
   "display_name": "Python 3 (ipykernel)",
   "language": "python",
   "name": "python3"
  },
  "language_info": {
   "codemirror_mode": {
    "name": "ipython",
    "version": 3
   },
   "file_extension": ".py",
   "mimetype": "text/x-python",
   "name": "python",
   "nbconvert_exporter": "python",
   "pygments_lexer": "ipython3",
   "version": "3.10.0"
  }
 },
 "nbformat": 4,
 "nbformat_minor": 1
}