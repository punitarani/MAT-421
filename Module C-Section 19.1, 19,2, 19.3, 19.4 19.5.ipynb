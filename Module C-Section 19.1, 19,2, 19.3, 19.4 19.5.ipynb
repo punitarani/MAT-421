{
 "cells": [
  {
   "cell_type": "markdown",
   "metadata": {},
   "source": [
    "# Module B: Section 17.4, 17.5"
   ]
  },
  {
   "cell_type": "code",
   "execution_count": 1,
   "metadata": {
    "pycharm": {
     "is_executing": true,
     "name": "#%%\n"
    }
   },
   "outputs": [],
   "source": [
    "# Imports\n",
    "from math import log10"
   ]
  },
  {
   "cell_type": "markdown",
   "metadata": {},
   "source": [
    "## Newton Raphson Method"
   ]
  },
  {
   "cell_type": "code",
   "execution_count": 2,
   "metadata": {
    "pycharm": {
     "name": "#%%\n"
    }
   },
   "outputs": [],
   "source": [
    "# Newton Raphson Method (nrm)\n",
    "def nrm(x: float, n: int, tol: float = 0.00001) -> float:\n",
    "    \"\"\"\n",
    "    Newton Raphson method to find the nth root of x\n",
    "    :param x: Value to find the nth root of\n",
    "    :param n: nth root to find\n",
    "    :param tol: tolerance\n",
    "    :return: nth root of x\n",
    "    \"\"\"\n",
    "\n",
    "    # Ensure that x and tol are strictly positive scalars\n",
    "    if x <= 0:\n",
    "        print(f\"Converting x to a positive number: {x} -> {abs(x)}\")\n",
    "        x = abs(x)\n",
    "\n",
    "    if tol <= 0:\n",
    "        print(f\"Converting tol to a positive number: {tol} -> {abs(tol)}\")\n",
    "        tol = abs(tol)\n",
    "\n",
    "    # Ensure that n is an integer strictly greater than 1\n",
    "    if not isinstance(n, int) or n <= 1:\n",
    "        raise ValueError(\"n must be an integer greater than 1\")\n",
    "\n",
    "    # f(y) = y^N - x\n",
    "    f = lambda y: y ** n - x\n",
    "\n",
    "    # f'(y) = Ny^(N-1)\n",
    "    f_prime = lambda y: n * y ** (n - 1)\n",
    "\n",
    "    # Initialize r\n",
    "    r = x\n",
    "\n",
    "    # Newton Raphson method to find the nth root of x\n",
    "    while abs(f(r)) > tol:\n",
    "        r = r - f(r)/f_prime(r)\n",
    "\n",
    "    # Return\n",
    "    return r"
   ]
  },
  {
   "cell_type": "code",
   "execution_count": 3,
   "metadata": {
    "pycharm": {
     "name": "#%%\n"
    }
   },
   "outputs": [
    {
     "name": "stdout",
     "output_type": "stream",
     "text": [
      "x = 1, n = 2, tol = 1e-05\n",
      "Newton Raphson: 1\n",
      "Actual:         1.0\n",
      "Error:          0\n",
      "\n",
      "\n",
      "x = 4, n = 2, tol = 1e-05\n",
      "Newton Raphson: 2.0\n",
      "Actual:         2.0\n",
      "Error:          0.0\n",
      "\n",
      "\n",
      "x = 81, n = 4, tol = 1e-05\n",
      "Newton Raphson: 3.0\n",
      "Actual:         3.0\n",
      "Error:          0.0\n",
      "\n",
      "\n",
      "x = 286718338524635465625, n = 5, tol = 1e-05\n",
      "Newton Raphson: 12345.0\n",
      "Actual:         12345.0\n",
      "Error:          0.0\n",
      "\n",
      "\n",
      "x = 877347265250300669935309761849, n = 10, tol = 1e-05\n",
      "Newton Raphson: 987.0\n",
      "Actual:         987.0\n",
      "Error:          0.0\n",
      "\n",
      "\n"
     ]
    }
   ],
   "source": [
    "# Newton Raphson Method (nrm) Tests\n",
    "nrm_tol = 0.00001\n",
    "\n",
    "# Function to test nrm\n",
    "def test_nrm(x: float, n: int, tol: float) -> None:\n",
    "    \"\"\"\n",
    "    Test the Newton Raphson method\n",
    "    :param x: Value to find the nth root of\n",
    "    :param n: nth root to find\n",
    "    :param tol: tolerance\n",
    "    :return: True if the nth root of x is within tol of x, False otherwise\n",
    "    \"\"\"\n",
    "    print(f\"x = {x}, n = {n}, tol = {tol}\")\n",
    "\n",
    "    # Find the nth root of x using the Newton Raphson method\n",
    "    n_root = nrm(x=x, n=n, tol=tol)\n",
    "\n",
    "    # Round to precision based on tolerance\n",
    "    round_to = int(abs(log10(tol)))\n",
    "    n_root = round(n_root, round_to)\n",
    "\n",
    "    # Print the results\n",
    "    print(f\"Newton Raphson: {n_root}\")\n",
    "    print(f\"Actual:         {round(x**(1/n), round_to)}\")\n",
    "    print(f\"Error:          {abs(n_root**n - x)}\")\n",
    "    print(f\"\\n\")\n",
    "\n",
    "# Test 1\n",
    "test_nrm(x=1, n=2, tol=nrm_tol)\n",
    "\n",
    "# Test 2\n",
    "test_nrm(x=4, n=2, tol=nrm_tol)\n",
    "\n",
    "# Test 3\n",
    "test_nrm(x=81, n=4, tol=nrm_tol)\n",
    "\n",
    "# Test 4\n",
    "_n = 5\n",
    "_x = 12345 ** _n\n",
    "test_nrm(x=_x, n=5, tol=nrm_tol)\n",
    "\n",
    "# Test 5\n",
    "_n = 10\n",
    "_x = 987 ** _n\n",
    "test_nrm(x=_x, n=_n, tol=nrm_tol)"
   ]
  }
 ],
 "metadata": {
  "kernelspec": {
   "display_name": "Python 3 (ipykernel)",
   "language": "python",
   "name": "python3"
  },
  "language_info": {
   "codemirror_mode": {
    "name": "ipython",
    "version": 3
   },
   "file_extension": ".py",
   "mimetype": "text/x-python",
   "name": "python",
   "nbconvert_exporter": "python",
   "pygments_lexer": "ipython3",
   "version": "3.10.0"
  }
 },
 "nbformat": 4,
 "nbformat_minor": 1
}